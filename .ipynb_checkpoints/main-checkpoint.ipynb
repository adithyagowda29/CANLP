{
 "cells": [
  {
   "cell_type": "markdown",
   "metadata": {},
   "source": [
    "Importing Libraries"
   ]
  },
  {
   "cell_type": "code",
   "execution_count": 2,
   "metadata": {
    "id": "P_HYuHz0Bl5S"
   },
   "outputs": [],
   "source": [
    "import sys\n",
    "import numpy as np\n",
    "import pandas as pd\n",
    "import pickle\n",
    "import random\n",
    "import os\n",
    "import base64\n",
    "import copy\n",
    "import csv\n",
    "import tensorflow as tf\n",
    "from tensorflow import keras\n",
    "from sklearn.feature_extraction.text import TfidfVectorizer\n",
    "from sklearn import preprocessing\n",
    "random.seed(a=1234567)"
   ]
  },
  {
   "cell_type": "markdown",
   "metadata": {
    "id": "DD-gKEVKl_HY"
   },
   "source": [
    "Preprocessing CAN Dataset"
   ]
  },
  {
   "cell_type": "code",
   "execution_count": 3,
   "metadata": {},
   "outputs": [],
   "source": [
    "#User inputs\n",
    "no_of_2_grams = 256 #Number of 2-gram TF-IDF features\n",
    "no_of_3_grams = 0 #Number of 3-gram TF-IDF features\n",
    "input_type = \"Char\" #Byte, Char or All\n",
    "take_id = True #Take CAN ID as a feature\n",
    "\n",
    "# Set the input CSV file \n",
    "# Make sure it is in correct format with following columns in the order - ID, Data, Label\n",
    "input_csv_file = 'dataset_csv/Attack_Dataset_Driving_no_duplicates.csv'"
   ]
  },
  {
   "cell_type": "code",
   "execution_count": 4,
   "metadata": {},
   "outputs": [],
   "source": [
    "# The output csv file path to save csv without id column\n",
    "dataset_file_no_id = 'dataset_csv/temp/Attacks_D_Sliding_Window_no_id.csv'\n",
    "\n",
    "# Open the input and output files\n",
    "with open(input_csv_file, 'r') as file_in, open(dataset_file_no_id, 'w', newline='') as file_out:\n",
    "    # Create CSV reader and writer objects\n",
    "    reader = csv.reader(file_in)\n",
    "    writer = csv.writer(file_out)\n",
    "    \n",
    "    # Iterate over the rows in the input file\n",
    "    for row in reader:\n",
    "        # Write all columns except the first one to the output file\n",
    "        writer.writerow(row[1:])"
   ]
  },
  {
   "cell_type": "code",
   "execution_count": 5,
   "metadata": {},
   "outputs": [],
   "source": [
    "# The output csv file path to save csv with only id column\n",
    "if take_id:\n",
    "    # Specify the input and output file paths\n",
    "    dataset_file_all_id = 'dataset_csv/temp/Attacks_D_Sliding_Window_all_id.csv'\n",
    "\n",
    "    # Open the input and output files\n",
    "    with open(input_csv_file, 'r') as file_in, open(dataset_file_all_id, 'w', newline='') as file_out:\n",
    "        # Create CSV reader and writer objects\n",
    "        reader = csv.reader(file_in)\n",
    "        writer = csv.writer(file_out)\n",
    "\n",
    "        # Iterate over the rows in the input file\n",
    "        for row in reader:\n",
    "            # Write all columns except the first one to the output file\n",
    "            writer.writerow(row[0])"
   ]
  },
  {
   "cell_type": "code",
   "execution_count": 6,
   "metadata": {},
   "outputs": [
    {
     "name": "stdout",
     "output_type": "stream",
     "text": [
      "C5 00 FC 00 C7 00 8D 0A Spoofing\n",
      "00 00 08 06 00 DE 7A C0 Spoofing\n",
      "00 00 08 06 00 DE 7A C0\n"
     ]
    }
   ],
   "source": [
    "# Convert the CSV file to Text file and Save another csv with only Labels\n",
    "Labels_FileName = 'dataset_csv/temp/Sliding_Window_Labels.csv'\n",
    "Binaries_FileName = 'dataset_csv/temp/Vectors.txt'\n",
    "\n",
    "with open(dataset_file_no_id, 'r') as infile:\n",
    "  Sliding_Window_List = []\n",
    "  for line in infile:\n",
    "    Sliding_Window_List.append(line.strip())\n",
    "\n",
    "Sliding_Window_List = [Sliding_Window_List[ii].replace(\",\", \" \") for ii in range(0, len(Sliding_Window_List))]\n",
    "print(Sliding_Window_List[0])\n",
    "print(Sliding_Window_List[1])\n",
    "\n",
    "# Open the CSV file in write mode\n",
    "with open(Labels_FileName, 'w', newline='') as file:\n",
    "    # Create a CSV writer object\n",
    "    csv_writer = csv.writer(file)\n",
    "\n",
    "    # Write each row with the same value\n",
    "    for lst in Sliding_Window_List:\n",
    "        csv_writer.writerow([lst.rsplit(' ', 1)[1]])\n",
    "\n",
    "#We need to change this for other labels\n",
    "Sliding_Window_Vector = [lst.rsplit(' ', 1)[0] for lst in Sliding_Window_List]\n",
    "print(Sliding_Window_Vector[1])\n",
    "\n",
    "#Write all binaries without labels in file\n",
    "with open(Binaries_FileName, 'w') as f:\n",
    "    for row in Sliding_Window_Vector:\n",
    "        f.write(''.join(map(str, row)) + '\\n')"
   ]
  },
  {
   "cell_type": "code",
   "execution_count": 7,
   "metadata": {},
   "outputs": [
    {
     "name": "stdout",
     "output_type": "stream",
     "text": [
      "709962\n"
     ]
    }
   ],
   "source": [
    "if take_id:\n",
    "    min_value = 0\n",
    "    max_value = 2048\n",
    "    with open(dataset_file_all_id, 'r') as infile:\n",
    "        Id_List = []\n",
    "        for line in infile:\n",
    "            Id_List.append(line.strip())\n",
    "\n",
    "    Id_List = [Id_List[ii].replace(\",\", \"\") for ii in range(0, len(Id_List))]\n",
    "    Id_List = [int(Id_List[ii],16) for ii in range(0, len(Id_List))]\n",
    "    Id_List = [(x - min_value) / (max_value - min_value) for x in Id_List]    \n",
    "    print(len(Id_List))"
   ]
  },
  {
   "cell_type": "code",
   "execution_count": 8,
   "metadata": {},
   "outputs": [
    {
     "name": "stdout",
     "output_type": "stream",
     "text": [
      "Distinct Labels: dict_keys(['Spoofing', 'Normal', 'Fuzzing'])\n",
      "Label Info: dict_values([164410, 500078, 45474])\n",
      "Minimum number of data points in a class: 45474\n",
      "defaultdict(<class 'list'>, {0: [0], 1: [1], 2: [2]})\n",
      "Label to Integer Info: {'Spoofing': 0, 'Normal': 1, 'Fuzzing': 2}\n"
     ]
    }
   ],
   "source": [
    "from collections import defaultdict, Counter\n",
    "\n",
    "label_counter = Counter()\n",
    "num_duplicates = 0\n",
    "label_list = []\n",
    "\n",
    "with open(Binaries_FileName,\"r\") as raw_binaries_file, open(Labels_FileName,\"r\") as binaries_label_file:\n",
    "    for _, label_value_tmp in zip(raw_binaries_file, binaries_label_file):\n",
    "        label_value = label_value_tmp.rstrip('\\n')\n",
    "        label_counter[label_value] += 1\n",
    "        label_list.append(label_value)\n",
    "\n",
    "# We're using a Counter object, so we can simply print its items\n",
    "print('Distinct Labels:', label_counter.keys())\n",
    "print('Label Info:', label_counter.values())\n",
    "\n",
    "min_len = min(label_counter.values()) \n",
    "print('Minimum number of data points in a class:', min_len)\n",
    "\n",
    "# Convert string labels to integers\n",
    "labels_to_integers = {label: i for i, label in enumerate(label_counter.keys())} #labels_to_integers\n",
    "label_list_numeric = [labels_to_integers[label] for label in label_list]\n",
    "class_data_info = defaultdict(list)\n",
    "\n",
    "#Collecting indices belong to each class \n",
    "for i, label in enumerate(label_counter.keys()):\n",
    "    class_data_info[labels_to_integers[label]].append(i)\n",
    "\n",
    "print(class_data_info)\n",
    "\n",
    "class_data_info = []\n",
    "for ii in range(0, len(label_counter.keys())):\n",
    "    class_data_info.append([])\n",
    "\n",
    "#Collecting indices belong to each class\n",
    "for ii in range(0, len(label_list)):\n",
    "    class_data_info[label_list_numeric[ii]].append(ii)\n",
    "\n",
    "print('Label to Integer Info:', labels_to_integers)"
   ]
  },
  {
   "cell_type": "markdown",
   "metadata": {},
   "source": [
    "Splitting Training and Testing Data"
   ]
  },
  {
   "cell_type": "code",
   "execution_count": 9,
   "metadata": {},
   "outputs": [
    {
     "name": "stdout",
     "output_type": "stream",
     "text": [
      "Number of training data per class: 36379\n",
      "Number of testing data per class: 9095\n"
     ]
    }
   ],
   "source": [
    "#Train Test Split\n",
    "train_dps_per_class = int(min_len*0.8)\n",
    "test_dps_per_class = min_len - train_dps_per_class\n",
    "\n",
    "print('Number of training data per class:', train_dps_per_class)\n",
    "print('Number of testing data per class:', test_dps_per_class)"
   ]
  },
  {
   "cell_type": "markdown",
   "metadata": {},
   "source": [
    "Data Balancing"
   ]
  },
  {
   "cell_type": "code",
   "execution_count": 10,
   "metadata": {},
   "outputs": [],
   "source": [
    "# Collecting same number of samples for each class of architecture -> (Data Balancing in each class)\n",
    "picked_data_indices_train = [[] for _ in range(len(labels_to_integers))]\n",
    "picked_data_indices_test = [[] for _ in range(len(labels_to_integers))]\n",
    "\n",
    "for ii in range(len(labels_to_integers)):\n",
    "    train_dps = min(train_dps_per_class, len(class_data_info[ii]))\n",
    "    test_dps = min(test_dps_per_class, len(class_data_info[ii]) - train_dps)\n",
    "\n",
    "    if train_dps > 0:\n",
    "        picked_data_indices_train[ii] += random.sample(class_data_info[ii], train_dps)\n",
    "        class_data_info[ii] = list(set(class_data_info[ii]).difference(set(picked_data_indices_train[ii])))\n",
    "    \n",
    "    if test_dps > 0:\n",
    "        picked_data_indices_test[ii] += random.sample(class_data_info[ii], test_dps)\n",
    "        class_data_info[ii] = list(set(class_data_info[ii]).difference(set(picked_data_indices_test[ii])))\n",
    "\n",
    "Binaries_DataSets_train = []\n",
    "Binaries_DataSets_test = []\n",
    "Binaries_LabelSets_train = []\n",
    "Binaries_LabelSets_test = []\n",
    "Binaries_IdSets_train = []\n",
    "Binaries_IdSets_test = []\n",
    "\n",
    "for ii in range(0, len(labels_to_integers)):\n",
    "    Binaries_DataSets_train += [Sliding_Window_Vector[index] for index in picked_data_indices_train[ii]]\n",
    "    Binaries_LabelSets_train += [label_list[index] for index in picked_data_indices_train[ii]]\n",
    "    Binaries_DataSets_test += [Sliding_Window_Vector[index] for index in picked_data_indices_test[ii]]\n",
    "    Binaries_LabelSets_test += [label_list[index] for index in picked_data_indices_test[ii]]\n",
    "    \n",
    "    if take_id:\n",
    "        Binaries_IdSets_train += [Id_List[index] for index in picked_data_indices_train[ii]]\n",
    "        Binaries_IdSets_test += [Id_List[index] for index in picked_data_indices_test[ii]]\n",
    "\n",
    "with open(\"DistinctLabels.txt\", \"wb\") as fp:   #Pickling\n",
    "    pickle.dump(labels_to_integers, fp)"
   ]
  },
  {
   "cell_type": "markdown",
   "metadata": {
    "id": "N79l7a1JR8Us"
   },
   "source": [
    "### (2) Byte-level N-Gram TF-IDF Features\n",
    "Extract (1,2,3)-Gram TF-IDF features from binaries in Hex format"
   ]
  },
  {
   "cell_type": "code",
   "execution_count": 11,
   "metadata": {},
   "outputs": [],
   "source": [
    "#Function to concatenate two pandas dataframes with unique column names\n",
    "def concat_dfs(df1, df2):    \n",
    "    shift_value = df1.shape[1]\n",
    "    column_reindex = []\n",
    "    \n",
    "    for ii in range(0,df2.shape[1]):\n",
    "        column_reindex.append(str(ii+shift_value))\n",
    "\n",
    "    dictOfColumn_reindex = { ii : column_reindex[ii] for ii in range(0, len(column_reindex)) }\n",
    "    df2 = df2.rename(dictOfColumn_reindex, axis='columns')\n",
    "    df = pd.concat([df1, df2], axis = 1)\n",
    "\n",
    "    return df"
   ]
  },
  {
   "cell_type": "code",
   "execution_count": 12,
   "metadata": {},
   "outputs": [],
   "source": [
    "#Calculate N-gram Byte level features for N = 1,2,3 based on user input and concatenate into one dataframe\n",
    "if input_type == \"Byte\":\n",
    "    vectorizer_12 = TfidfVectorizer(ngram_range = (1,1), lowercase = False)\n",
    "    #fit TF-IDF model using training data and transform training data according to the fitted model\n",
    "    X_train_12 = vectorizer_12.fit_transform(Binaries_DataSets_train)\n",
    "    df_train_Byte_TFIDF_feat_12 = pd.DataFrame(X_train_12.toarray())\n",
    "    df_train_Byte_TFIDF_feat_12['label'] = Binaries_LabelSets_train\n",
    "\n",
    "    ## Transform test data using the fitted model\n",
    "    X_test_12 = vectorizer_12.transform(Binaries_DataSets_test)\n",
    "    df_test_Byte_TFIDF_feat_12 = pd.DataFrame(X_test_12.toarray())\n",
    "    df_test_Byte_TFIDF_feat_12['label'] = Binaries_LabelSets_test\n",
    "    if take_id:\n",
    "        df_train_Byte_TFIDF_feat_12['id'] = Binaries_IdSets_train\n",
    "        df_test_Byte_TFIDF_feat_12['id'] = Binaries_IdSets_test\n",
    "\n",
    "    #For no concatenation case\n",
    "    if no_of_2_grams == 0 and no_of_3_grams == 0:\n",
    "        df_train_Byte_TFIDF_feat = df_train_Byte_TFIDF_feat_12\n",
    "        df_test_Byte_TFIDF_feat = df_test_Byte_TFIDF_feat_12\n",
    "\n",
    "    if no_of_2_grams > 0:\n",
    "        vectorizer_22 = TfidfVectorizer(ngram_range = (2,2), max_features = no_of_2_grams, lowercase = False)\n",
    "        #fit TF-IDF model using training data and transform training data according to the fitted model\n",
    "        X_train_22 = vectorizer_22.fit_transform(Binaries_DataSets_train)\n",
    "        df_train_Byte_TFIDF_feat_22 = pd.DataFrame(X_train_22.toarray())\n",
    "\n",
    "        #transform test data using the fitted model\n",
    "        X_test_22 = vectorizer_22.transform(Binaries_DataSets_test)\n",
    "        df_test_Byte_TFIDF_feat_22 = pd.DataFrame(X_test_22.toarray())\n",
    "\n",
    "    if no_of_3_grams > 0:\n",
    "        vectorizer_3 = TfidfVectorizer(ngram_range = (3,3),max_features = no_of_3_grams,lowercase = False)\n",
    "        #fit TF-IDF model using training data and transform training data according to the fitted model\n",
    "        X_train_3 = vectorizer_3.fit_transform(Binaries_DataSets_train)\n",
    "        df_train_Byte_TFIDF_feat_3 = pd.DataFrame(X_train_3.toarray())\n",
    "\n",
    "        # #transform test data using the fitted model\n",
    "        X_test_3 = vectorizer_3.transform(Binaries_DataSets_test)\n",
    "        df_test_Byte_TFIDF_feat_3 = pd.DataFrame(X_test_3.toarray())\n",
    "\n",
    "    # For Concatenation case\n",
    "    if no_of_2_grams > 0:\n",
    "        df_train_Byte_TFIDF_feat = concat_dfs(df_train_Byte_TFIDF_feat_12, df_train_Byte_TFIDF_feat_22)\n",
    "        df_test_Byte_TFIDF_feat = concat_dfs(df_test_Byte_TFIDF_feat_12, df_test_Byte_TFIDF_feat_22)\n",
    "\n",
    "    if no_of_2_grams > 0 and no_of_3_grams > 0:\n",
    "        df_train_Byte_TFIDF_feat = concat_dfs(df_train_Byte_TFIDF_feat, df_train_Byte_TFIDF_feat_3)\n",
    "        df_test_Byte_TFIDF_feat = concat_dfs(df_test_Byte_TFIDF_feat, df_test_Byte_TFIDF_feat_3)\n",
    "\n",
    "    if no_of_3_grams > 0 and no_of_2_grams == 0:\n",
    "        df_train_Byte_TFIDF_feat = concat_dfs(df_train_Byte_TFIDF_feat_12, df_train_Byte_TFIDF_feat_3)\n",
    "        df_test_Byte_TFIDF_feat = concat_dfs(df_test_Byte_TFIDF_feat_12, df_test_Byte_TFIDF_feat_3)\n",
    "\n",
    "    df_train_Byte_TFIDF_feat = df_train_Byte_TFIDF_feat.sample(frac=1)\n",
    "    df_test_Byte_TFIDF_feat = df_test_Byte_TFIDF_feat.sample(frac=1)"
   ]
  },
  {
   "cell_type": "markdown",
   "metadata": {
    "id": "qdaIj6nfXb8a"
   },
   "source": [
    "Data processing for Character level TF-IDF"
   ]
  },
  {
   "cell_type": "code",
   "execution_count": 13,
   "metadata": {
    "id": "TUUnh1g4Xao1"
   },
   "outputs": [],
   "source": [
    "#Remove all spaces in data field for calculating character level features\n",
    "Binaries_DataSets_train_B16 = [Binaries_DataSets_train[ii].replace(\" \", \"\") for ii in range(0, len(Binaries_DataSets_train))]\n",
    "Binaries_DataSets_test_B16 = [Binaries_DataSets_test[ii].replace(\" \", \"\") for ii in range(0, len(Binaries_DataSets_test))]"
   ]
  },
  {
   "cell_type": "markdown",
   "metadata": {
    "id": "GCbaNu-pJ5TR"
   },
   "source": [
    "Character level (1,2,3)-gram TF-IDF (Change list parameters after discussion)"
   ]
  },
  {
   "cell_type": "code",
   "execution_count": 14,
   "metadata": {
    "id": "03nXjhF_U6yk"
   },
   "outputs": [],
   "source": [
    "#Calculate N-gram Character level features for N = 1,2,3 based on user input and concatenate into one dataframe\n",
    "if input_type == \"Char\":\n",
    "    vectorizer_11_B16 = TfidfVectorizer(ngram_range = (1,1), lowercase = False, analyzer = 'char')\n",
    "    #fit TF-IDF model using training data and transform training data according to the fitted model\n",
    "    X_train_11_B16 = vectorizer_11_B16.fit_transform(Binaries_DataSets_train_B16)\n",
    "    df_train_CharB16_TFIDF_feat_11 = pd.DataFrame(X_train_11_B16.toarray())\n",
    "    df_train_CharB16_TFIDF_feat_11['label'] = Binaries_LabelSets_train\n",
    "    \n",
    "    #transform test data using the fitted model\n",
    "    X_test_11_B16 = vectorizer_11_B16.transform(Binaries_DataSets_test_B16)\n",
    "    df_test_CharB16_TFIDF_feat_11 = pd.DataFrame(X_test_11_B16.toarray())\n",
    "    df_test_CharB16_TFIDF_feat_11['label'] = Binaries_LabelSets_test\n",
    "    \n",
    "    if take_id:\n",
    "        df_train_CharB16_TFIDF_feat_11['id'] = Binaries_IdSets_train\n",
    "        df_test_CharB16_TFIDF_feat_11['id'] = Binaries_IdSets_test\n",
    "    ##For no concat\n",
    "    if no_of_2_grams == 0 and no_of_3_grams == 0:\n",
    "        df_train_Char_TFIDF_feat = df_train_CharB16_TFIDF_feat_11\n",
    "        df_test_Char_TFIDF_feat = df_test_CharB16_TFIDF_feat_11\n",
    "\n",
    "    if no_of_2_grams > 0:\n",
    "        vectorizer_22_B16 = TfidfVectorizer(ngram_range = (2,2), max_features = no_of_2_grams, lowercase = False, analyzer = 'char')\n",
    "        #fit TF-IDF model using training data and transform training data according to the fitted model\n",
    "        X_train_22_B16 = vectorizer_22_B16.fit_transform(Binaries_DataSets_train_B16)\n",
    "        df_train_CharB16_TFIDF_feat_22 = pd.DataFrame(X_train_22_B16.toarray())\n",
    "\n",
    "        #transform test data using the fitted model\n",
    "        X_test_22_B16 = vectorizer_22_B16.transform(Binaries_DataSets_test_B16)\n",
    "        df_test_CharB16_TFIDF_feat_22 = pd.DataFrame(X_test_22_B16.toarray())\n",
    "\n",
    "    if no_of_3_grams > 0:\n",
    "        vectorizer_33_B16 = TfidfVectorizer(ngram_range = (3,3), max_features = no_of_3_grams, lowercase = False, analyzer = 'char')\n",
    "        #fit TF-IDF model using training data and transform training data according to the fitted model\n",
    "        X_train_33_B16 = vectorizer_33_B16.fit_transform(Binaries_DataSets_train_B16)\n",
    "        df_train_CharB16_TFIDF_feat_33 = pd.DataFrame(X_train_33_B16.toarray())\n",
    "\n",
    "        #transform test data using the fitted model\n",
    "        X_test_33_B16 = vectorizer_33_B16.transform(Binaries_DataSets_test_B16)\n",
    "        df_test_CharB16_TFIDF_feat_33 = pd.DataFrame(X_test_33_B16.toarray())\n",
    "    \n",
    "    # Concatenations \n",
    "    if no_of_2_grams > 0:\n",
    "        df_train_Char_TFIDF_feat = concat_dfs(df_train_CharB16_TFIDF_feat_11, df_train_CharB16_TFIDF_feat_22)\n",
    "        df_test_Char_TFIDF_feat = concat_dfs(df_test_CharB16_TFIDF_feat_11, df_test_CharB16_TFIDF_feat_22)\n",
    "    \n",
    "    if no_of_2_grams > 0 and no_of_3_grams > 0:\n",
    "        df_train_Char_TFIDF_feat = concat_dfs(df_train_Char_TFIDF_feat, df_train_CharB16_TFIDF_feat_33)\n",
    "        df_test_Char_TFIDF_feat = concat_dfs(df_test_Char_TFIDF_feat, df_test_CharB16_TFIDF_feat_33)\n",
    "\n",
    "    if no_of_3_grams > 0 and no_of_2_grams == 0:\n",
    "        df_train_Char_TFIDF_feat = concat_dfs(df_train_CharB16_TFIDF_feat_11, df_train_CharB16_TFIDF_feat_33)\n",
    "        df_test_Char_TFIDF_feat = concat_dfs(df_test_CharB16_TFIDF_feat_11, df_test_CharB16_TFIDF_feat_33)\n",
    "\n",
    "    df_train_Char_TFIDF_feat = df_train_Char_TFIDF_feat.sample(frac=1)\n",
    "    df_test_Char_TFIDF_feat = df_test_Char_TFIDF_feat.sample(frac=1)"
   ]
  },
  {
   "cell_type": "code",
   "execution_count": 15,
   "metadata": {},
   "outputs": [],
   "source": [
    "#Convert all pandas data frames to numpy arrays\n",
    "if input_type==\"Char\":\n",
    "    df_train_Byte_TFIDF_feat_label_convert = df_train_Char_TFIDF_feat.replace({'label' : labels_to_integers})\n",
    "    df_train_Byte_TFIDF_feat_no_label = df_train_Byte_TFIDF_feat_label_convert.drop('label', axis=1)\n",
    "    inputs = df_train_Byte_TFIDF_feat_no_label.to_numpy()\n",
    "    outputs_string = df_train_Char_TFIDF_feat['label'].to_numpy()\n",
    "\n",
    "    df_test_Byte_TFIDF_feat_label_convert = df_test_Char_TFIDF_feat.replace({'label' : labels_to_integers})\n",
    "    df_test_Byte_TFIDF_feat_no_label = df_test_Byte_TFIDF_feat_label_convert.drop('label', axis=1)\n",
    "    inputs_test = df_test_Byte_TFIDF_feat_no_label.to_numpy()\n",
    "    outputs_string_test = df_test_Char_TFIDF_feat['label'].to_numpy()\n",
    "else:\n",
    "    df_train_Byte_TFIDF_feat_label_convert = df_train_Byte_TFIDF_feat.replace({'label' : labels_to_integers})\n",
    "    df_train_Byte_TFIDF_feat_no_label = df_train_Byte_TFIDF_feat_label_convert.drop('label', axis=1)\n",
    "    inputs = df_train_Byte_TFIDF_feat_no_label.to_numpy()\n",
    "    outputs_string = df_train_Byte_TFIDF_feat['label'].to_numpy()\n",
    "\n",
    "    df_test_Byte_TFIDF_feat_label_convert = df_test_Byte_TFIDF_feat.replace({'label' : labels_to_integers})\n",
    "    df_test_Byte_TFIDF_feat_no_label = df_test_Byte_TFIDF_feat_label_convert.drop('label', axis=1)\n",
    "    inputs_test = df_test_Byte_TFIDF_feat_no_label.to_numpy()\n",
    "    outputs_string_test = df_test_Byte_TFIDF_feat['label'].to_numpy()"
   ]
  },
  {
   "cell_type": "code",
   "execution_count": 16,
   "metadata": {},
   "outputs": [],
   "source": [
    "#Set random seed\n",
    "np.random.seed(30)\n",
    "tf.random.set_seed(30)"
   ]
  },
  {
   "cell_type": "code",
   "execution_count": 17,
   "metadata": {},
   "outputs": [],
   "source": [
    "#Convert inputs to float32 type\n",
    "X_train = inputs.astype('float32')\n",
    "X_test = inputs_test.astype('float32')"
   ]
  },
  {
   "cell_type": "markdown",
   "metadata": {},
   "source": [
    "Change this logic for multiclass"
   ]
  },
  {
   "cell_type": "code",
   "execution_count": 18,
   "metadata": {},
   "outputs": [],
   "source": [
    "#Convert labels to integers\n",
    "mapping = labels_to_integers\n",
    "\n",
    "Y_train1 = outputs_string\n",
    "Y_test1 = outputs_string_test\n",
    "# Replace values using numpy.where()\n",
    "for integer in labels_to_integers.keys():\n",
    "    Y_train1 = np.where(Y_train1 == integer, mapping[integer], Y_train1)\n",
    "    Y_test1 = np.where(Y_test1 == integer, mapping[integer], Y_test1)"
   ]
  },
  {
   "cell_type": "code",
   "execution_count": 19,
   "metadata": {},
   "outputs": [],
   "source": [
    "#Convert labels to categorical\n",
    "num_labels=len(labels_to_integers.keys())\n",
    "Y_train = tf.keras.utils.to_categorical(Y_train1, num_classes=num_labels)\n",
    "Y_test = tf.keras.utils.to_categorical(Y_test1, num_classes=num_labels)"
   ]
  },
  {
   "cell_type": "code",
   "execution_count": 20,
   "metadata": {},
   "outputs": [],
   "source": [
    "#Randomize order of inputs\n",
    "num_inputs = len(X_train)\n",
    "randomize = np.arange(num_inputs)\n",
    "np.random.shuffle(randomize)\n",
    "\n",
    "X_train = X_train[randomize]\n",
    "Y_train = Y_train[randomize]"
   ]
  },
  {
   "cell_type": "code",
   "execution_count": 21,
   "metadata": {},
   "outputs": [
    {
     "name": "stdout",
     "output_type": "stream",
     "text": [
      "Model: \"sequential\"\n",
      "_________________________________________________________________\n",
      "Layer (type)                 Output Shape              Param #   \n",
      "=================================================================\n",
      "dense (Dense)                (None, 128)               35072     \n",
      "_________________________________________________________________\n",
      "dropout (Dropout)            (None, 128)               0         \n",
      "_________________________________________________________________\n",
      "dense_1 (Dense)              (None, 64)                8256      \n",
      "_________________________________________________________________\n",
      "dense_2 (Dense)              (None, 3)                 195       \n",
      "=================================================================\n",
      "Total params: 43,523\n",
      "Trainable params: 43,523\n",
      "Non-trainable params: 0\n",
      "_________________________________________________________________\n",
      "None\n"
     ]
    }
   ],
   "source": [
    "#Set dropout rate \n",
    "dropout_rate = 0.15\n",
    "model_path = \"models\"\n",
    "\n",
    "#Add model architecture\n",
    "model = keras.models.Sequential()\n",
    "model.add(keras.layers.Dense(128, activation='relu', input_dim=X_train.shape[1]))\n",
    "model.add(keras.layers.Dropout(dropout_rate))\n",
    "model.add(keras.layers.Dense(64, activation='relu'))\n",
    "model.add(keras.layers.Dense(len(labels_to_integers.keys()), activation='softmax'))\n",
    "\n",
    "#Check model architecture\n",
    "print(model.summary())\n",
    "\n",
    "#Add Adam optimizer\n",
    "opt = keras.optimizers.Adam(learning_rate=0.001,\n",
    "                            beta_1=0.9,\n",
    "                            beta_2=0.999,\n",
    "                            epsilon=1e-07)\n",
    "#Compile model with Categorical Crossentropy loss function and for classification accuracy\n",
    "model.compile(\n",
    "    loss='categorical_crossentropy',\n",
    "    optimizer=opt,\n",
    "    metrics=['accuracy']\n",
    ")"
   ]
  },
  {
   "cell_type": "code",
   "execution_count": 22,
   "metadata": {},
   "outputs": [
    {
     "name": "stderr",
     "output_type": "stream",
     "text": [
      "Using TensorFlow backend.\n"
     ]
    }
   ],
   "source": [
    "#Import for Keras callback\n",
    "from keras import backend as K\n",
    "from keras.callbacks import ModelCheckpoint, EarlyStopping, ReduceLROnPlateau\n",
    "\n",
    "def callbacks(PATH_BEST_MODEL, monitor, verbose, mode, save_best_only):  \n",
    "    \n",
    "    checkpoint = ModelCheckpoint(\n",
    "        os.path.join(PATH_BEST_MODEL, 'dnn.hdf5'), \n",
    "        monitor=monitor, \n",
    "        verbose=verbose, \n",
    "        mode=mode, \n",
    "        save_best_only=save_best_only\n",
    "    )\n",
    "\n",
    "    return [checkpoint]"
   ]
  },
  {
   "cell_type": "code",
   "execution_count": 23,
   "metadata": {},
   "outputs": [
    {
     "name": "stdout",
     "output_type": "stream",
     "text": [
      "Epoch 1/30\n",
      "171/171 [==============================] - 2s 11ms/step - loss: 0.7604 - accuracy: 0.6838 - val_loss: 0.3897 - val_accuracy: 0.8474\n",
      "\n",
      "Epoch 00001: val_accuracy improved from -inf to 0.84744, saving model to models\\dnn.hdf5\n",
      "Epoch 2/30\n",
      "171/171 [==============================] - 0s 3ms/step - loss: 0.3674 - accuracy: 0.8561 - val_loss: 0.2980 - val_accuracy: 0.8905\n",
      "\n",
      "Epoch 00002: val_accuracy improved from 0.84744 to 0.89046, saving model to models\\dnn.hdf5\n",
      "Epoch 3/30\n",
      "171/171 [==============================] - 0s 3ms/step - loss: 0.2896 - accuracy: 0.8951 - val_loss: 0.2380 - val_accuracy: 0.9190\n",
      "\n",
      "Epoch 00003: val_accuracy improved from 0.89046 to 0.91905, saving model to models\\dnn.hdf5\n",
      "Epoch 4/30\n",
      "171/171 [==============================] - 0s 3ms/step - loss: 0.2331 - accuracy: 0.9202 - val_loss: 0.2044 - val_accuracy: 0.9337\n",
      "\n",
      "Epoch 00004: val_accuracy improved from 0.91905 to 0.93371, saving model to models\\dnn.hdf5\n",
      "Epoch 5/30\n",
      "171/171 [==============================] - 0s 3ms/step - loss: 0.2051 - accuracy: 0.9302 - val_loss: 0.1829 - val_accuracy: 0.9422\n",
      "\n",
      "Epoch 00005: val_accuracy improved from 0.93371 to 0.94218, saving model to models\\dnn.hdf5\n",
      "Epoch 6/30\n",
      "171/171 [==============================] - 0s 3ms/step - loss: 0.1788 - accuracy: 0.9429 - val_loss: 0.1694 - val_accuracy: 0.9467\n",
      "\n",
      "Epoch 00006: val_accuracy improved from 0.94218 to 0.94672, saving model to models\\dnn.hdf5\n",
      "Epoch 7/30\n",
      "171/171 [==============================] - 0s 3ms/step - loss: 0.1615 - accuracy: 0.9489 - val_loss: 0.1572 - val_accuracy: 0.9511\n",
      "\n",
      "Epoch 00007: val_accuracy improved from 0.94672 to 0.95112, saving model to models\\dnn.hdf5\n",
      "Epoch 8/30\n",
      "171/171 [==============================] - 0s 3ms/step - loss: 0.1505 - accuracy: 0.9534 - val_loss: 0.1515 - val_accuracy: 0.9529\n",
      "\n",
      "Epoch 00008: val_accuracy improved from 0.95112 to 0.95286, saving model to models\\dnn.hdf5\n",
      "Epoch 9/30\n",
      "171/171 [==============================] - 0s 3ms/step - loss: 0.1355 - accuracy: 0.9590 - val_loss: 0.1479 - val_accuracy: 0.9532\n",
      "\n",
      "Epoch 00009: val_accuracy improved from 0.95286 to 0.95318, saving model to models\\dnn.hdf5\n",
      "Epoch 10/30\n",
      "171/171 [==============================] - 0s 3ms/step - loss: 0.1304 - accuracy: 0.9607 - val_loss: 0.1401 - val_accuracy: 0.9565\n",
      "\n",
      "Epoch 00010: val_accuracy improved from 0.95318 to 0.95648, saving model to models\\dnn.hdf5\n",
      "Epoch 11/30\n",
      "171/171 [==============================] - 0s 3ms/step - loss: 0.1197 - accuracy: 0.9639 - val_loss: 0.1355 - val_accuracy: 0.9584\n",
      "\n",
      "Epoch 00011: val_accuracy improved from 0.95648 to 0.95845, saving model to models\\dnn.hdf5\n",
      "Epoch 12/30\n",
      "171/171 [==============================] - 0s 3ms/step - loss: 0.1176 - accuracy: 0.9647 - val_loss: 0.1338 - val_accuracy: 0.9581\n",
      "\n",
      "Epoch 00012: val_accuracy did not improve from 0.95845\n",
      "Epoch 13/30\n",
      "171/171 [==============================] - 0s 3ms/step - loss: 0.1119 - accuracy: 0.9663 - val_loss: 0.1298 - val_accuracy: 0.9601\n",
      "\n",
      "Epoch 00013: val_accuracy improved from 0.95845 to 0.96014, saving model to models\\dnn.hdf5\n",
      "Epoch 14/30\n",
      "171/171 [==============================] - 0s 3ms/step - loss: 0.1062 - accuracy: 0.9679 - val_loss: 0.1292 - val_accuracy: 0.9593\n",
      "\n",
      "Epoch 00014: val_accuracy did not improve from 0.96014\n",
      "Epoch 15/30\n",
      "171/171 [==============================] - 0s 3ms/step - loss: 0.0998 - accuracy: 0.9710 - val_loss: 0.1292 - val_accuracy: 0.9604\n",
      "\n",
      "Epoch 00015: val_accuracy improved from 0.96014 to 0.96037, saving model to models\\dnn.hdf5\n",
      "Epoch 16/30\n",
      "171/171 [==============================] - 0s 3ms/step - loss: 0.0972 - accuracy: 0.9716 - val_loss: 0.1315 - val_accuracy: 0.9590\n",
      "\n",
      "Epoch 00016: val_accuracy did not improve from 0.96037\n",
      "Epoch 17/30\n",
      "171/171 [==============================] - 0s 3ms/step - loss: 0.0933 - accuracy: 0.9727 - val_loss: 0.1254 - val_accuracy: 0.9618\n",
      "\n",
      "Epoch 00017: val_accuracy improved from 0.96037 to 0.96184, saving model to models\\dnn.hdf5\n",
      "Epoch 18/30\n",
      "171/171 [==============================] - 0s 3ms/step - loss: 0.0903 - accuracy: 0.9737 - val_loss: 0.1246 - val_accuracy: 0.9617\n",
      "\n",
      "Epoch 00018: val_accuracy did not improve from 0.96184\n",
      "Epoch 19/30\n",
      "171/171 [==============================] - 0s 3ms/step - loss: 0.0896 - accuracy: 0.9734 - val_loss: 0.1255 - val_accuracy: 0.9612\n",
      "\n",
      "Epoch 00019: val_accuracy did not improve from 0.96184\n",
      "Epoch 20/30\n",
      "171/171 [==============================] - 0s 3ms/step - loss: 0.0833 - accuracy: 0.9764 - val_loss: 0.1262 - val_accuracy: 0.9623\n",
      "\n",
      "Epoch 00020: val_accuracy improved from 0.96184 to 0.96225, saving model to models\\dnn.hdf5\n",
      "Epoch 21/30\n",
      "171/171 [==============================] - 0s 3ms/step - loss: 0.0797 - accuracy: 0.9767 - val_loss: 0.1242 - val_accuracy: 0.9627\n",
      "\n",
      "Epoch 00021: val_accuracy improved from 0.96225 to 0.96271, saving model to models\\dnn.hdf5\n",
      "Epoch 22/30\n",
      "171/171 [==============================] - 0s 3ms/step - loss: 0.0789 - accuracy: 0.9769 - val_loss: 0.1257 - val_accuracy: 0.9619\n",
      "\n",
      "Epoch 00022: val_accuracy did not improve from 0.96271\n",
      "Epoch 23/30\n",
      "171/171 [==============================] - 0s 3ms/step - loss: 0.0753 - accuracy: 0.9781 - val_loss: 0.1291 - val_accuracy: 0.9615\n",
      "\n",
      "Epoch 00023: val_accuracy did not improve from 0.96271\n",
      "Epoch 24/30\n",
      "171/171 [==============================] - 0s 3ms/step - loss: 0.0736 - accuracy: 0.9776 - val_loss: 0.1259 - val_accuracy: 0.9623\n",
      "\n",
      "Epoch 00024: val_accuracy did not improve from 0.96271\n",
      "Epoch 25/30\n",
      "171/171 [==============================] - 0s 3ms/step - loss: 0.0703 - accuracy: 0.9797 - val_loss: 0.1238 - val_accuracy: 0.9636\n",
      "\n",
      "Epoch 00025: val_accuracy improved from 0.96271 to 0.96362, saving model to models\\dnn.hdf5\n",
      "Epoch 26/30\n",
      "171/171 [==============================] - 0s 3ms/step - loss: 0.0681 - accuracy: 0.9801 - val_loss: 0.1272 - val_accuracy: 0.9632\n",
      "\n",
      "Epoch 00026: val_accuracy did not improve from 0.96362\n",
      "Epoch 27/30\n",
      "171/171 [==============================] - 0s 3ms/step - loss: 0.0673 - accuracy: 0.9804 - val_loss: 0.1267 - val_accuracy: 0.9648\n",
      "\n",
      "Epoch 00027: val_accuracy improved from 0.96362 to 0.96477, saving model to models\\dnn.hdf5\n",
      "Epoch 28/30\n",
      "171/171 [==============================] - 0s 3ms/step - loss: 0.0641 - accuracy: 0.9810 - val_loss: 0.1266 - val_accuracy: 0.9641\n",
      "\n",
      "Epoch 00028: val_accuracy did not improve from 0.96477\n",
      "Epoch 29/30\n",
      "171/171 [==============================] - 0s 3ms/step - loss: 0.0655 - accuracy: 0.9801 - val_loss: 0.1284 - val_accuracy: 0.9635\n",
      "\n",
      "Epoch 00029: val_accuracy did not improve from 0.96477\n",
      "Epoch 30/30\n",
      "171/171 [==============================] - 0s 3ms/step - loss: 0.0643 - accuracy: 0.9802 - val_loss: 0.1289 - val_accuracy: 0.9644\n",
      "\n",
      "Epoch 00030: val_accuracy did not improve from 0.96477\n"
     ]
    }
   ],
   "source": [
    "#Run model with hyperparameters\n",
    "history = model.fit(X_train, Y_train, epochs=30, initial_epoch=0, verbose=1, batch_size=512, validation_split=0.2, use_multiprocessing=True,\n",
    "                    callbacks=callbacks(      \n",
    "                PATH_BEST_MODEL=model_path,\n",
    "                monitor=\"val_accuracy\",\n",
    "                verbose=1, \n",
    "                mode=\"max\", \n",
    "                save_best_only=True\n",
    "            ),)"
   ]
  },
  {
   "cell_type": "code",
   "execution_count": 24,
   "metadata": {},
   "outputs": [],
   "source": [
    "#Load the best model\n",
    "model_path_full = 'models/dnn.hdf5'\n",
    "model = tf.keras.models.load_model(model_path_full)"
   ]
  },
  {
   "cell_type": "code",
   "execution_count": 25,
   "metadata": {},
   "outputs": [
    {
     "data": {
      "image/png": "[encoded data removed]",
      "text/plain": [
       "<Figure size 600x600 with 1 Axes>"
      ]
     },
     "metadata": {},
     "output_type": "display_data"
    }
   ],
   "source": [
    "#Plot the Accuracy and Loss curves\n",
    "from matplotlib import pyplot as plt\n",
    "fig, axes = plt.subplots(1, 1, figsize=(6, 6))\n",
    "plt.plot(history.history['accuracy'])\n",
    "plt.plot(history.history['val_accuracy'])\n",
    "plt.plot(history.history['loss'])\n",
    "plt.plot(history.history['val_loss'])\n",
    "plt.title('Accuracy and Loss Curves', fontweight='bold', fontsize=18)\n",
    "# plt.ylabel('Accuracy & Loss', fontweight='bold', fontsize=13)\n",
    "plt.xlabel('Number of Epochs', fontweight='bold', fontsize=14)\n",
    "plt.legend(['Train F1-score', 'Validation F1-score', 'Train Loss', 'Validation Loss'], loc='right', fontsize=12)\n",
    "plt.show()\n",
    "fig.savefig('results/Model_F1-Score_and_Loss_Curves.png')"
   ]
  },
  {
   "cell_type": "code",
   "execution_count": 26,
   "metadata": {},
   "outputs": [
    {
     "name": "stdout",
     "output_type": "stream",
     "text": [
      "Test set performance\n",
      "853/853 [==============================] - 1s 675us/step - loss: 0.1312 - accuracy: 0.9643\n"
     ]
    }
   ],
   "source": [
    "print('Test set performance')\n",
    "test_perf = model.evaluate(X_test, Y_test)"
   ]
  },
  {
   "cell_type": "code",
   "execution_count": 27,
   "metadata": {},
   "outputs": [
    {
     "name": "stdout",
     "output_type": "stream",
     "text": [
      "              precision    recall  f1-score   support\n",
      "\n",
      "           0       0.97      0.94      0.95      9095\n",
      "           1       0.97      0.97      0.97      9095\n",
      "           2       0.96      0.98      0.97      9095\n",
      "\n",
      "    accuracy                           0.96     27285\n",
      "   macro avg       0.96      0.96      0.96     27285\n",
      "weighted avg       0.96      0.96      0.96     27285\n",
      "\n"
     ]
    }
   ],
   "source": [
    "#Evaluate and create a Classification Report and save it\n",
    "from sklearn.metrics import classification_report\n",
    "\n",
    "# Assuming 'model' is your trained Keras model and 'x_test', 'y_test' are your test data\n",
    "y_pred = model.predict(X_test)\n",
    "y_pred_classes = y_pred.argmax(axis=-1)\n",
    "y_true_classes = Y_test.argmax(axis=-1)\n",
    "\n",
    "#Create Classification Report\n",
    "print(classification_report(y_true_classes, y_pred_classes))\n",
    "report = classification_report(y_true_classes, y_pred_classes, output_dict=True)\n",
    "\n",
    "#Save it in csv\n",
    "df_dnn = pd.DataFrame(report).transpose()\n",
    "if input_type == \"Byte\":\n",
    "    df_dnn.to_csv('results/DNN Report Byte.csv')\n",
    "else:\n",
    "    df_dnn.to_csv('results/DNN Report Char.csv')"
   ]
  },
  {
   "cell_type": "code",
   "execution_count": 28,
   "metadata": {},
   "outputs": [
    {
     "name": "stdout",
     "output_type": "stream",
     "text": [
      "[0.13117797672748566, 0.9642660617828369]\n"
     ]
    }
   ],
   "source": [
    "print(test_perf)"
   ]
  },
  {
   "cell_type": "code",
   "execution_count": 29,
   "metadata": {},
   "outputs": [
    {
     "name": "stdout",
     "output_type": "stream",
     "text": [
      "INFO:tensorflow:Assets written to: C:\\Users\\adith\\AppData\\Local\\Temp\\tmpwlrryrn5\\assets\n"
     ]
    }
   ],
   "source": [
    "# Passing the Keras model to the TF Lite Converter.\n",
    "converter = tf.lite.TFLiteConverter.from_keras_model(model)\n",
    "\n",
    "# Using float-16 quantization.\n",
    "converter.optimizations = [tf.lite.Optimize.DEFAULT]\n",
    "converter.target_spec.supported_types = [tf.float32]\n",
    "\n",
    "# Converting the model.\n",
    "tflite_fp16_model = converter.convert()\n",
    " \n",
    "# Saving the model.\n",
    "with open('models/fp_16_model.tflite', 'wb') as f:\n",
    "    f.write(tflite_fp16_model)"
   ]
  },
  {
   "cell_type": "code",
   "execution_count": 30,
   "metadata": {},
   "outputs": [
    {
     "name": "stdout",
     "output_type": "stream",
     "text": [
      "INFO:tensorflow:Assets written to: C:\\Users\\adith\\AppData\\Local\\Temp\\tmpvh43hcav\\assets\n"
     ]
    },
    {
     "name": "stderr",
     "output_type": "stream",
     "text": [
      "INFO:tensorflow:Assets written to: C:\\Users\\adith\\AppData\\Local\\Temp\\tmpvh43hcav\\assets\n"
     ]
    }
   ],
   "source": [
    "# Passing the baseline Keras model to the TF Lite Converter.\n",
    "converter = tf.lite.TFLiteConverter.from_keras_model(model)\n",
    "# Using  the Dynamic Range Quantization.\n",
    "converter.optimizations = [tf.lite.Optimize.DEFAULT]\n",
    "# Converting the model\n",
    "tflite_quant_model = converter.convert()\n",
    "# Saving the model.\n",
    "with open('models/dynamic_quant_model.tflite', 'wb') as f:\n",
    "    f.write(tflite_quant_model)"
   ]
  },
  {
   "cell_type": "code",
   "execution_count": 32,
   "metadata": {},
   "outputs": [],
   "source": [
    "#Function for evaluating TF Lite Model over Test Images\n",
    "def evaluate(interpreter):\n",
    "    prediction= []\n",
    "    input_index = interpreter.get_input_details()[0][\"index\"]\n",
    "    output_index = interpreter.get_output_details()[0][\"index\"]\n",
    "    input_format = interpreter.get_output_details()[0]['dtype']\n",
    "    \n",
    "    for i, test_image in enumerate(X_test):\n",
    "        test_image = np.expand_dims(test_image, axis=0).astype(input_format)\n",
    "        interpreter.set_tensor(input_index, test_image)\n",
    "\n",
    "        # Run inference.\n",
    "        interpreter.invoke()\n",
    "        output = interpreter.tensor(output_index)\n",
    "        predicted_label = np.argmax(output()[0])\n",
    "        prediction.append(predicted_label)\n",
    "\n",
    "    print('\\n')\n",
    "    # Comparing prediction results with ground truth labels to calculate accuracy.\n",
    "    prediction = np.array(prediction)\n",
    "\n",
    "    accuracy = (prediction == Y_test1).mean()\n",
    "    return accuracy"
   ]
  },
  {
   "cell_type": "code",
   "execution_count": 33,
   "metadata": {},
   "outputs": [
    {
     "name": "stdout",
     "output_type": "stream",
     "text": [
      "\n",
      "\n",
      "Float 16 Quantized TFLite Model Test Accuracy: 96.42660802638812\n"
     ]
    }
   ],
   "source": [
    "# Passing the FP-16 TF Lite model to the interpreter.\n",
    "interpreter = tf.lite.Interpreter('models/fp_16_model.tflite')\n",
    "# Allocating tensors.\n",
    "interpreter.allocate_tensors()\n",
    "# Evaluating the model on the test dataset.\n",
    "test_accuracy = evaluate(interpreter)\n",
    "print('Float 16 Quantized TFLite Model Test Accuracy:', test_accuracy*100)"
   ]
  },
  {
   "cell_type": "code",
   "execution_count": 34,
   "metadata": {},
   "outputs": [
    {
     "name": "stdout",
     "output_type": "stream",
     "text": [
      "\n",
      "\n",
      "Dynamically Quantized TFLite Model Test Accuracy: 96.38629283489097\n"
     ]
    }
   ],
   "source": [
    "# Passing the Dynamic Range Quantized TF Lite model to the Interpreter.\n",
    "interpreter = tf.lite.Interpreter('models/dynamic_quant_model.tflite') \n",
    "# Allocating tensors.\n",
    "interpreter.allocate_tensors()\n",
    "# Evaluating the model on the test images.\n",
    "test_accuracy = evaluate(interpreter)\n",
    "print('Dynamically Quantized TFLite Model Test Accuracy:', test_accuracy*100)"
   ]
  },
  {
   "cell_type": "code",
   "execution_count": 35,
   "metadata": {},
   "outputs": [],
   "source": [
    "from sklearn.svm import LinearSVC\n",
    "from sklearn.linear_model import LogisticRegression\n",
    "from sklearn.naive_bayes import GaussianNB\n",
    "from sklearn.tree import DecisionTreeClassifier\n",
    "from sklearn.ensemble import RandomForestClassifier"
   ]
  },
  {
   "cell_type": "code",
   "execution_count": 36,
   "metadata": {},
   "outputs": [],
   "source": [
    "from sklearn.metrics import classification_report\n",
    "\n",
    "def evaluate_model(model, name, feat_test, y_test, input_type=\"Byte\"):\n",
    "    \"\"\" Evaluate a classification model on the test set, then print and plot metrics. \"\"\"\n",
    "    # Make prediction from features\n",
    "    pred_test = model.predict(feat_test)\n",
    "    \n",
    "    print(f\"\\n[ Evaluation result for {name} ]\")\n",
    "    # Print classification report\n",
    "    print(\"Classification report:\")\n",
    "    print(classification_report(y_test, pred_test))\n",
    "    report = classification_report(y_test, pred_test, output_dict=True)\n",
    "    df = pd.DataFrame(report).transpose()\n",
    "    # Save classification report as CSV\n",
    "    df.to_csv('results/{} Report {}.csv'.format(name,input_type))\n",
    "\n",
    "## Converting labels  to integer values\n",
    "def label_to_numeric(row):\n",
    "    \"\"\"Convert label to integers\"\"\"\n",
    "    distinct_labels = labels_to_integers.keys()\n",
    "    index_ = distinct_labels.index(row[\"label\"])\n",
    "    return index_"
   ]
  },
  {
   "cell_type": "code",
   "execution_count": 37,
   "metadata": {},
   "outputs": [],
   "source": [
    "def train_test_ML_models(df_train, df_test, input_type=\"Byte\"):\n",
    "    ## Visualize the dataset in tabular format\n",
    "    print('Total Number of Training data samples:', df_train.shape[0])\n",
    "    print('Total Number of Testing data samples:', df_test.shape[0])\n",
    "    print('Number of features per data sample:', df_train.shape[1]-1)\n",
    "    print('Distinct labels (Architecture Types):\\n',label_counter.keys())\n",
    "    \n",
    "    df_train_tmp = copy.deepcopy(df_train)\n",
    "    df_test_tmp = copy.deepcopy(df_test)\n",
    "    \n",
    "    df_train_tmp[\"label\"] = df_train_tmp['label'].replace(labels_to_integers)\n",
    "    df_test_tmp[\"label\"] = df_test_tmp['label'].replace(labels_to_integers)\n",
    "\n",
    "    #Train and Test labels\n",
    "    y_train = df_train_tmp.pop(\"label\").values\n",
    "    y_test = df_test_tmp.pop(\"label\").values\n",
    "    \n",
    "    #Train and Test data\n",
    "    X_train = df_train_tmp.values\n",
    "    X_test = df_test_tmp.values\n",
    "\n",
    "    #SVM\n",
    "    SVC_model = LinearSVC(random_state=123, max_iter=200)\n",
    "    SVC_model.fit(X_train, y_train)\n",
    "    classification_report = evaluate_model(SVC_model, \"Support Vector Machine Classifier\", X_test, y_test, input_type) \n",
    "    SVC_acc = np.round(SVC_model.score(X_test, y_test)*100,4)\n",
    "    print(SVC_acc)\n",
    "\n",
    "    #LR\n",
    "    LR_model = LogisticRegression(solver='sag', random_state=123, max_iter =200)\n",
    "    LR_model.fit(X_train, y_train)\n",
    "    evaluate_model(LR_model, \"Logistic Regression Classifier\", X_test, y_test, input_type) \n",
    "    LR_acc = np.round(LR_model.score(X_test, y_test)*100,4)\n",
    "    print(LR_acc)\n",
    "    \n",
    "    #GNB\n",
    "    GNB_model = GaussianNB()\n",
    "    GNB_model.fit(X_train, y_train)\n",
    "    evaluate_model(GNB_model, \"Gaussian Naive Bayes Classifier\", X_test, y_test, input_type) \n",
    "    GNB_acc = np.round(GNB_model.score(X_test, y_test)*100,4)\n",
    "    print(GNB_acc)\n",
    "\n",
    "    #DT\n",
    "    DT_model = DecisionTreeClassifier(random_state=1234567)\n",
    "    DT_model.fit(X_train, y_train)\n",
    "    evaluate_model(DT_model, \"Decision Tree Classifier\", X_test, y_test, input_type) \n",
    "    DT_acc = np.round(DT_model.score(X_test, y_test)*100,4)\n",
    "    print(DT_acc)\n",
    "\n",
    "#     RF\n",
    "    RF_model = RandomForestClassifier(random_state=1234567)\n",
    "    RF_model.fit(X_train, y_train)\n",
    "    evaluate_model(RF_model, \"Random Forest Classifier\", X_test, y_test, input_type) \n",
    "    RF_acc = np.round(RF_model.score(X_test, y_test)*100,4)\n",
    "    print(RF_acc)"
   ]
  },
  {
   "cell_type": "markdown",
   "metadata": {},
   "source": [
    "For Byte Level TF-IDF - Train and Eval"
   ]
  },
  {
   "cell_type": "code",
   "execution_count": 38,
   "metadata": {},
   "outputs": [],
   "source": [
    "if input_type == \"Byte\" or input_type == \"All\":\n",
    "    train_test_ML_models(df_train_Byte_TFIDF_feat, df_test_Byte_TFIDF_feat, input_type=\"Byte\")"
   ]
  },
  {
   "cell_type": "markdown",
   "metadata": {},
   "source": [
    "For Char Level TF-IDF - Train and Eval"
   ]
  },
  {
   "cell_type": "code",
   "execution_count": 39,
   "metadata": {},
   "outputs": [
    {
     "name": "stdout",
     "output_type": "stream",
     "text": [
      "Total Number of Training data samples: 109137\n",
      "Total Number of Testing data samples: 27285\n",
      "Number of features per data sample: 273\n",
      "Distinct labels (Architecture Types):\n",
      " dict_keys(['Spoofing', 'Normal', 'Fuzzing'])\n",
      "\n",
      "[ Evaluation result for Support Vector Machine Classifier ]\n",
      "Classification report:\n",
      "              precision    recall  f1-score   support\n",
      "\n",
      "           0       0.74      0.74      0.74      9095\n",
      "           1       0.77      0.73      0.75      9095\n",
      "           2       0.94      0.97      0.95      9095\n",
      "\n",
      "    accuracy                           0.82     27285\n",
      "   macro avg       0.81      0.82      0.81     27285\n",
      "weighted avg       0.81      0.82      0.81     27285\n",
      "\n",
      "81.5027\n"
     ]
    },
    {
     "ename": "AttributeError",
     "evalue": "'str' object has no attribute 'decode'",
     "output_type": "error",
     "traceback": [
      "\u001b[1;31m---------------------------------------------------------------------------\u001b[0m",
      "\u001b[1;31mAttributeError\u001b[0m                            Traceback (most recent call last)",
      "Cell \u001b[1;32mIn[39], line 2\u001b[0m\n\u001b[0;32m      1\u001b[0m \u001b[38;5;28;01mif\u001b[39;00m input_type \u001b[38;5;241m==\u001b[39m \u001b[38;5;124m\"\u001b[39m\u001b[38;5;124mChar\u001b[39m\u001b[38;5;124m\"\u001b[39m \u001b[38;5;129;01mor\u001b[39;00m input_type \u001b[38;5;241m==\u001b[39m \u001b[38;5;124m\"\u001b[39m\u001b[38;5;124mAll\u001b[39m\u001b[38;5;124m\"\u001b[39m:\n\u001b[1;32m----> 2\u001b[0m     \u001b[43mtrain_test_ML_models\u001b[49m\u001b[43m(\u001b[49m\u001b[43mdf_train_Char_TFIDF_feat\u001b[49m\u001b[43m,\u001b[49m\u001b[43m \u001b[49m\u001b[43mdf_test_Char_TFIDF_feat\u001b[49m\u001b[43m,\u001b[49m\u001b[43m \u001b[49m\u001b[43minput_type\u001b[49m\u001b[38;5;241;43m=\u001b[39;49m\u001b[38;5;124;43m\"\u001b[39;49m\u001b[38;5;124;43mChar\u001b[39;49m\u001b[38;5;124;43m\"\u001b[39;49m\u001b[43m)\u001b[49m\n",
      "Cell \u001b[1;32mIn[37], line 31\u001b[0m, in \u001b[0;36mtrain_test_ML_models\u001b[1;34m(df_train, df_test, input_type)\u001b[0m\n\u001b[0;32m     29\u001b[0m \u001b[38;5;66;03m#LR\u001b[39;00m\n\u001b[0;32m     30\u001b[0m LR_model \u001b[38;5;241m=\u001b[39m LogisticRegression(random_state\u001b[38;5;241m=\u001b[39m\u001b[38;5;241m123\u001b[39m, max_iter \u001b[38;5;241m=\u001b[39m\u001b[38;5;241m200\u001b[39m)\n\u001b[1;32m---> 31\u001b[0m \u001b[43mLR_model\u001b[49m\u001b[38;5;241;43m.\u001b[39;49m\u001b[43mfit\u001b[49m\u001b[43m(\u001b[49m\u001b[43mX_train\u001b[49m\u001b[43m,\u001b[49m\u001b[43m \u001b[49m\u001b[43my_train\u001b[49m\u001b[43m)\u001b[49m\n\u001b[0;32m     32\u001b[0m evaluate_model(LR_model, \u001b[38;5;124m\"\u001b[39m\u001b[38;5;124mLogistic Regression Classifier\u001b[39m\u001b[38;5;124m\"\u001b[39m, X_test, y_test, input_type) \n\u001b[0;32m     33\u001b[0m LR_acc \u001b[38;5;241m=\u001b[39m np\u001b[38;5;241m.\u001b[39mround(LR_model\u001b[38;5;241m.\u001b[39mscore(X_test, y_test)\u001b[38;5;241m*\u001b[39m\u001b[38;5;241m100\u001b[39m,\u001b[38;5;241m4\u001b[39m)\n",
      "File \u001b[1;32m~\\.conda\\envs\\canlp\\lib\\site-packages\\sklearn\\linear_model\\_logistic.py:1407\u001b[0m, in \u001b[0;36mLogisticRegression.fit\u001b[1;34m(self, X, y, sample_weight)\u001b[0m\n\u001b[0;32m   1405\u001b[0m \u001b[38;5;28;01melse\u001b[39;00m:\n\u001b[0;32m   1406\u001b[0m     prefer \u001b[38;5;241m=\u001b[39m \u001b[38;5;124m'\u001b[39m\u001b[38;5;124mprocesses\u001b[39m\u001b[38;5;124m'\u001b[39m\n\u001b[1;32m-> 1407\u001b[0m fold_coefs_ \u001b[38;5;241m=\u001b[39m \u001b[43mParallel\u001b[49m\u001b[43m(\u001b[49m\u001b[43mn_jobs\u001b[49m\u001b[38;5;241;43m=\u001b[39;49m\u001b[38;5;28;43mself\u001b[39;49m\u001b[38;5;241;43m.\u001b[39;49m\u001b[43mn_jobs\u001b[49m\u001b[43m,\u001b[49m\u001b[43m \u001b[49m\u001b[43mverbose\u001b[49m\u001b[38;5;241;43m=\u001b[39;49m\u001b[38;5;28;43mself\u001b[39;49m\u001b[38;5;241;43m.\u001b[39;49m\u001b[43mverbose\u001b[49m\u001b[43m,\u001b[49m\n\u001b[0;32m   1408\u001b[0m \u001b[43m                       \u001b[49m\u001b[38;5;241;43m*\u001b[39;49m\u001b[38;5;241;43m*\u001b[39;49m\u001b[43m_joblib_parallel_args\u001b[49m\u001b[43m(\u001b[49m\u001b[43mprefer\u001b[49m\u001b[38;5;241;43m=\u001b[39;49m\u001b[43mprefer\u001b[49m\u001b[43m)\u001b[49m\u001b[43m)\u001b[49m\u001b[43m(\u001b[49m\n\u001b[0;32m   1409\u001b[0m \u001b[43m    \u001b[49m\u001b[43mpath_func\u001b[49m\u001b[43m(\u001b[49m\u001b[43mX\u001b[49m\u001b[43m,\u001b[49m\u001b[43m \u001b[49m\u001b[43my\u001b[49m\u001b[43m,\u001b[49m\u001b[43m \u001b[49m\u001b[43mpos_class\u001b[49m\u001b[38;5;241;43m=\u001b[39;49m\u001b[43mclass_\u001b[49m\u001b[43m,\u001b[49m\u001b[43m \u001b[49m\u001b[43mCs\u001b[49m\u001b[38;5;241;43m=\u001b[39;49m\u001b[43m[\u001b[49m\u001b[43mC_\u001b[49m\u001b[43m]\u001b[49m\u001b[43m,\u001b[49m\n\u001b[0;32m   1410\u001b[0m \u001b[43m              \u001b[49m\u001b[43ml1_ratio\u001b[49m\u001b[38;5;241;43m=\u001b[39;49m\u001b[38;5;28;43mself\u001b[39;49m\u001b[38;5;241;43m.\u001b[39;49m\u001b[43ml1_ratio\u001b[49m\u001b[43m,\u001b[49m\u001b[43m \u001b[49m\u001b[43mfit_intercept\u001b[49m\u001b[38;5;241;43m=\u001b[39;49m\u001b[38;5;28;43mself\u001b[39;49m\u001b[38;5;241;43m.\u001b[39;49m\u001b[43mfit_intercept\u001b[49m\u001b[43m,\u001b[49m\n\u001b[0;32m   1411\u001b[0m \u001b[43m              \u001b[49m\u001b[43mtol\u001b[49m\u001b[38;5;241;43m=\u001b[39;49m\u001b[38;5;28;43mself\u001b[39;49m\u001b[38;5;241;43m.\u001b[39;49m\u001b[43mtol\u001b[49m\u001b[43m,\u001b[49m\u001b[43m \u001b[49m\u001b[43mverbose\u001b[49m\u001b[38;5;241;43m=\u001b[39;49m\u001b[38;5;28;43mself\u001b[39;49m\u001b[38;5;241;43m.\u001b[39;49m\u001b[43mverbose\u001b[49m\u001b[43m,\u001b[49m\u001b[43m \u001b[49m\u001b[43msolver\u001b[49m\u001b[38;5;241;43m=\u001b[39;49m\u001b[43msolver\u001b[49m\u001b[43m,\u001b[49m\n\u001b[0;32m   1412\u001b[0m \u001b[43m              \u001b[49m\u001b[43mmulti_class\u001b[49m\u001b[38;5;241;43m=\u001b[39;49m\u001b[43mmulti_class\u001b[49m\u001b[43m,\u001b[49m\u001b[43m \u001b[49m\u001b[43mmax_iter\u001b[49m\u001b[38;5;241;43m=\u001b[39;49m\u001b[38;5;28;43mself\u001b[39;49m\u001b[38;5;241;43m.\u001b[39;49m\u001b[43mmax_iter\u001b[49m\u001b[43m,\u001b[49m\n\u001b[0;32m   1413\u001b[0m \u001b[43m              \u001b[49m\u001b[43mclass_weight\u001b[49m\u001b[38;5;241;43m=\u001b[39;49m\u001b[38;5;28;43mself\u001b[39;49m\u001b[38;5;241;43m.\u001b[39;49m\u001b[43mclass_weight\u001b[49m\u001b[43m,\u001b[49m\u001b[43m \u001b[49m\u001b[43mcheck_input\u001b[49m\u001b[38;5;241;43m=\u001b[39;49m\u001b[38;5;28;43;01mFalse\u001b[39;49;00m\u001b[43m,\u001b[49m\n\u001b[0;32m   1414\u001b[0m \u001b[43m              \u001b[49m\u001b[43mrandom_state\u001b[49m\u001b[38;5;241;43m=\u001b[39;49m\u001b[38;5;28;43mself\u001b[39;49m\u001b[38;5;241;43m.\u001b[39;49m\u001b[43mrandom_state\u001b[49m\u001b[43m,\u001b[49m\u001b[43m \u001b[49m\u001b[43mcoef\u001b[49m\u001b[38;5;241;43m=\u001b[39;49m\u001b[43mwarm_start_coef_\u001b[49m\u001b[43m,\u001b[49m\n\u001b[0;32m   1415\u001b[0m \u001b[43m              \u001b[49m\u001b[43mpenalty\u001b[49m\u001b[38;5;241;43m=\u001b[39;49m\u001b[43mpenalty\u001b[49m\u001b[43m,\u001b[49m\u001b[43m \u001b[49m\u001b[43mmax_squared_sum\u001b[49m\u001b[38;5;241;43m=\u001b[39;49m\u001b[43mmax_squared_sum\u001b[49m\u001b[43m,\u001b[49m\n\u001b[0;32m   1416\u001b[0m \u001b[43m              \u001b[49m\u001b[43msample_weight\u001b[49m\u001b[38;5;241;43m=\u001b[39;49m\u001b[43msample_weight\u001b[49m\u001b[43m)\u001b[49m\n\u001b[0;32m   1417\u001b[0m \u001b[43m    \u001b[49m\u001b[38;5;28;43;01mfor\u001b[39;49;00m\u001b[43m \u001b[49m\u001b[43mclass_\u001b[49m\u001b[43m,\u001b[49m\u001b[43m \u001b[49m\u001b[43mwarm_start_coef_\u001b[49m\u001b[43m \u001b[49m\u001b[38;5;129;43;01min\u001b[39;49;00m\u001b[43m \u001b[49m\u001b[38;5;28;43mzip\u001b[39;49m\u001b[43m(\u001b[49m\u001b[43mclasses_\u001b[49m\u001b[43m,\u001b[49m\u001b[43m \u001b[49m\u001b[43mwarm_start_coef\u001b[49m\u001b[43m)\u001b[49m\u001b[43m)\u001b[49m\n\u001b[0;32m   1419\u001b[0m fold_coefs_, _, n_iter_ \u001b[38;5;241m=\u001b[39m \u001b[38;5;28mzip\u001b[39m(\u001b[38;5;241m*\u001b[39mfold_coefs_)\n\u001b[0;32m   1420\u001b[0m \u001b[38;5;28mself\u001b[39m\u001b[38;5;241m.\u001b[39mn_iter_ \u001b[38;5;241m=\u001b[39m np\u001b[38;5;241m.\u001b[39masarray(n_iter_, dtype\u001b[38;5;241m=\u001b[39mnp\u001b[38;5;241m.\u001b[39mint32)[:, \u001b[38;5;241m0\u001b[39m]\n",
      "File \u001b[1;32m~\\.conda\\envs\\canlp\\lib\\site-packages\\joblib\\parallel.py:1863\u001b[0m, in \u001b[0;36mParallel.__call__\u001b[1;34m(self, iterable)\u001b[0m\n\u001b[0;32m   1861\u001b[0m     output \u001b[38;5;241m=\u001b[39m \u001b[38;5;28mself\u001b[39m\u001b[38;5;241m.\u001b[39m_get_sequential_output(iterable)\n\u001b[0;32m   1862\u001b[0m     \u001b[38;5;28mnext\u001b[39m(output)\n\u001b[1;32m-> 1863\u001b[0m     \u001b[38;5;28;01mreturn\u001b[39;00m output \u001b[38;5;28;01mif\u001b[39;00m \u001b[38;5;28mself\u001b[39m\u001b[38;5;241m.\u001b[39mreturn_generator \u001b[38;5;28;01melse\u001b[39;00m \u001b[38;5;28;43mlist\u001b[39;49m\u001b[43m(\u001b[49m\u001b[43moutput\u001b[49m\u001b[43m)\u001b[49m\n\u001b[0;32m   1865\u001b[0m \u001b[38;5;66;03m# Let's create an ID that uniquely identifies the current call. If the\u001b[39;00m\n\u001b[0;32m   1866\u001b[0m \u001b[38;5;66;03m# call is interrupted early and that the same instance is immediately\u001b[39;00m\n\u001b[0;32m   1867\u001b[0m \u001b[38;5;66;03m# re-used, this id will be used to prevent workers that were\u001b[39;00m\n\u001b[0;32m   1868\u001b[0m \u001b[38;5;66;03m# concurrently finalizing a task from the previous call to run the\u001b[39;00m\n\u001b[0;32m   1869\u001b[0m \u001b[38;5;66;03m# callback.\u001b[39;00m\n\u001b[0;32m   1870\u001b[0m \u001b[38;5;28;01mwith\u001b[39;00m \u001b[38;5;28mself\u001b[39m\u001b[38;5;241m.\u001b[39m_lock:\n",
      "File \u001b[1;32m~\\.conda\\envs\\canlp\\lib\\site-packages\\joblib\\parallel.py:1792\u001b[0m, in \u001b[0;36mParallel._get_sequential_output\u001b[1;34m(self, iterable)\u001b[0m\n\u001b[0;32m   1790\u001b[0m \u001b[38;5;28mself\u001b[39m\u001b[38;5;241m.\u001b[39mn_dispatched_batches \u001b[38;5;241m+\u001b[39m\u001b[38;5;241m=\u001b[39m \u001b[38;5;241m1\u001b[39m\n\u001b[0;32m   1791\u001b[0m \u001b[38;5;28mself\u001b[39m\u001b[38;5;241m.\u001b[39mn_dispatched_tasks \u001b[38;5;241m+\u001b[39m\u001b[38;5;241m=\u001b[39m \u001b[38;5;241m1\u001b[39m\n\u001b[1;32m-> 1792\u001b[0m res \u001b[38;5;241m=\u001b[39m \u001b[43mfunc\u001b[49m\u001b[43m(\u001b[49m\u001b[38;5;241;43m*\u001b[39;49m\u001b[43margs\u001b[49m\u001b[43m,\u001b[49m\u001b[43m \u001b[49m\u001b[38;5;241;43m*\u001b[39;49m\u001b[38;5;241;43m*\u001b[39;49m\u001b[43mkwargs\u001b[49m\u001b[43m)\u001b[49m\n\u001b[0;32m   1793\u001b[0m \u001b[38;5;28mself\u001b[39m\u001b[38;5;241m.\u001b[39mn_completed_tasks \u001b[38;5;241m+\u001b[39m\u001b[38;5;241m=\u001b[39m \u001b[38;5;241m1\u001b[39m\n\u001b[0;32m   1794\u001b[0m \u001b[38;5;28mself\u001b[39m\u001b[38;5;241m.\u001b[39mprint_progress()\n",
      "File \u001b[1;32m~\\.conda\\envs\\canlp\\lib\\site-packages\\sklearn\\linear_model\\_logistic.py:762\u001b[0m, in \u001b[0;36m_logistic_regression_path\u001b[1;34m(X, y, pos_class, Cs, fit_intercept, max_iter, tol, verbose, solver, coef, class_weight, dual, penalty, intercept_scaling, multi_class, random_state, check_input, max_squared_sum, sample_weight, l1_ratio)\u001b[0m\n\u001b[0;32m    755\u001b[0m     iprint \u001b[38;5;241m=\u001b[39m [\u001b[38;5;241m-\u001b[39m\u001b[38;5;241m1\u001b[39m, \u001b[38;5;241m50\u001b[39m, \u001b[38;5;241m1\u001b[39m, \u001b[38;5;241m100\u001b[39m, \u001b[38;5;241m101\u001b[39m][\n\u001b[0;32m    756\u001b[0m         np\u001b[38;5;241m.\u001b[39msearchsorted(np\u001b[38;5;241m.\u001b[39marray([\u001b[38;5;241m0\u001b[39m, \u001b[38;5;241m1\u001b[39m, \u001b[38;5;241m2\u001b[39m, \u001b[38;5;241m3\u001b[39m]), verbose)]\n\u001b[0;32m    757\u001b[0m     opt_res \u001b[38;5;241m=\u001b[39m optimize\u001b[38;5;241m.\u001b[39mminimize(\n\u001b[0;32m    758\u001b[0m         func, w0, method\u001b[38;5;241m=\u001b[39m\u001b[38;5;124m\"\u001b[39m\u001b[38;5;124mL-BFGS-B\u001b[39m\u001b[38;5;124m\"\u001b[39m, jac\u001b[38;5;241m=\u001b[39m\u001b[38;5;28;01mTrue\u001b[39;00m,\n\u001b[0;32m    759\u001b[0m         args\u001b[38;5;241m=\u001b[39m(X, target, \u001b[38;5;241m1.\u001b[39m \u001b[38;5;241m/\u001b[39m C, sample_weight),\n\u001b[0;32m    760\u001b[0m         options\u001b[38;5;241m=\u001b[39m{\u001b[38;5;124m\"\u001b[39m\u001b[38;5;124miprint\u001b[39m\u001b[38;5;124m\"\u001b[39m: iprint, \u001b[38;5;124m\"\u001b[39m\u001b[38;5;124mgtol\u001b[39m\u001b[38;5;124m\"\u001b[39m: tol, \u001b[38;5;124m\"\u001b[39m\u001b[38;5;124mmaxiter\u001b[39m\u001b[38;5;124m\"\u001b[39m: max_iter}\n\u001b[0;32m    761\u001b[0m     )\n\u001b[1;32m--> 762\u001b[0m     n_iter_i \u001b[38;5;241m=\u001b[39m \u001b[43m_check_optimize_result\u001b[49m\u001b[43m(\u001b[49m\n\u001b[0;32m    763\u001b[0m \u001b[43m        \u001b[49m\u001b[43msolver\u001b[49m\u001b[43m,\u001b[49m\u001b[43m \u001b[49m\u001b[43mopt_res\u001b[49m\u001b[43m,\u001b[49m\u001b[43m \u001b[49m\u001b[43mmax_iter\u001b[49m\u001b[43m,\u001b[49m\n\u001b[0;32m    764\u001b[0m \u001b[43m        \u001b[49m\u001b[43mextra_warning_msg\u001b[49m\u001b[38;5;241;43m=\u001b[39;49m\u001b[43m_LOGISTIC_SOLVER_CONVERGENCE_MSG\u001b[49m\u001b[43m)\u001b[49m\n\u001b[0;32m    765\u001b[0m     w0, loss \u001b[38;5;241m=\u001b[39m opt_res\u001b[38;5;241m.\u001b[39mx, opt_res\u001b[38;5;241m.\u001b[39mfun\n\u001b[0;32m    766\u001b[0m \u001b[38;5;28;01melif\u001b[39;00m solver \u001b[38;5;241m==\u001b[39m \u001b[38;5;124m'\u001b[39m\u001b[38;5;124mnewton-cg\u001b[39m\u001b[38;5;124m'\u001b[39m:\n",
      "File \u001b[1;32m~\\.conda\\envs\\canlp\\lib\\site-packages\\sklearn\\utils\\optimize.py:243\u001b[0m, in \u001b[0;36m_check_optimize_result\u001b[1;34m(solver, result, max_iter, extra_warning_msg)\u001b[0m\n\u001b[0;32m    235\u001b[0m \u001b[38;5;28;01mif\u001b[39;00m solver \u001b[38;5;241m==\u001b[39m \u001b[38;5;124m\"\u001b[39m\u001b[38;5;124mlbfgs\u001b[39m\u001b[38;5;124m\"\u001b[39m:\n\u001b[0;32m    236\u001b[0m     \u001b[38;5;28;01mif\u001b[39;00m result\u001b[38;5;241m.\u001b[39mstatus \u001b[38;5;241m!=\u001b[39m \u001b[38;5;241m0\u001b[39m:\n\u001b[0;32m    237\u001b[0m         warning_msg \u001b[38;5;241m=\u001b[39m (\n\u001b[0;32m    238\u001b[0m             \u001b[38;5;124m\"\u001b[39m\u001b[38;5;132;01m{}\u001b[39;00m\u001b[38;5;124m failed to converge (status=\u001b[39m\u001b[38;5;132;01m{}\u001b[39;00m\u001b[38;5;124m):\u001b[39m\u001b[38;5;130;01m\\n\u001b[39;00m\u001b[38;5;132;01m{}\u001b[39;00m\u001b[38;5;124m.\u001b[39m\u001b[38;5;130;01m\\n\u001b[39;00m\u001b[38;5;130;01m\\n\u001b[39;00m\u001b[38;5;124m\"\u001b[39m\n\u001b[0;32m    239\u001b[0m             \u001b[38;5;124m\"\u001b[39m\u001b[38;5;124mIncrease the number of iterations (max_iter) \u001b[39m\u001b[38;5;124m\"\u001b[39m\n\u001b[0;32m    240\u001b[0m             \u001b[38;5;124m\"\u001b[39m\u001b[38;5;124mor scale the data as shown in:\u001b[39m\u001b[38;5;130;01m\\n\u001b[39;00m\u001b[38;5;124m\"\u001b[39m\n\u001b[0;32m    241\u001b[0m             \u001b[38;5;124m\"\u001b[39m\u001b[38;5;124m    https://scikit-learn.org/stable/modules/\u001b[39m\u001b[38;5;124m\"\u001b[39m\n\u001b[0;32m    242\u001b[0m             \u001b[38;5;124m\"\u001b[39m\u001b[38;5;124mpreprocessing.html\u001b[39m\u001b[38;5;124m\"\u001b[39m\n\u001b[1;32m--> 243\u001b[0m         )\u001b[38;5;241m.\u001b[39mformat(solver, result\u001b[38;5;241m.\u001b[39mstatus, \u001b[43mresult\u001b[49m\u001b[38;5;241;43m.\u001b[39;49m\u001b[43mmessage\u001b[49m\u001b[38;5;241;43m.\u001b[39;49m\u001b[43mdecode\u001b[49m(\u001b[38;5;124m\"\u001b[39m\u001b[38;5;124mlatin1\u001b[39m\u001b[38;5;124m\"\u001b[39m))\n\u001b[0;32m    244\u001b[0m         \u001b[38;5;28;01mif\u001b[39;00m extra_warning_msg \u001b[38;5;129;01mis\u001b[39;00m \u001b[38;5;129;01mnot\u001b[39;00m \u001b[38;5;28;01mNone\u001b[39;00m:\n\u001b[0;32m    245\u001b[0m             warning_msg \u001b[38;5;241m+\u001b[39m\u001b[38;5;241m=\u001b[39m \u001b[38;5;124m\"\u001b[39m\u001b[38;5;130;01m\\n\u001b[39;00m\u001b[38;5;124m\"\u001b[39m \u001b[38;5;241m+\u001b[39m extra_warning_msg\n",
      "\u001b[1;31mAttributeError\u001b[0m: 'str' object has no attribute 'decode'"
     ]
    }
   ],
   "source": [
    "if input_type == \"Char\" or input_type == \"All\":\n",
    "    train_test_ML_models(df_train_Char_TFIDF_feat, df_test_Char_TFIDF_feat, input_type=\"Char\")"
   ]
  },
  {
   "cell_type": "code",
   "execution_count": null,
   "metadata": {},
   "outputs": [],
   "source": []
  }
 ],
 "metadata": {
  "colab": {
   "provenance": []
  },
  "kernelspec": {
   "display_name": "canlp",
   "language": "python",
   "name": "canlp"
  },
  "language_info": {
   "codemirror_mode": {
    "name": "ipython",
    "version": 3
   },
   "file_extension": ".py",
   "mimetype": "text/x-python",
   "name": "python",
   "nbconvert_exporter": "python",
   "pygments_lexer": "ipython3",
   "version": "3.8.17"
  }
 },
 "nbformat": 4,
 "nbformat_minor": 1
}
