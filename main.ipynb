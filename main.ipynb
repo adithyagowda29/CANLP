{
 "cells": [
  {
   "cell_type": "markdown",
   "metadata": {},
   "source": [
    "Importing Libraries"
   ]
  },
  {
   "cell_type": "code",
   "execution_count": 1,
   "metadata": {
    "id": "P_HYuHz0Bl5S"
   },
   "outputs": [
    {
     "name": "stderr",
     "output_type": "stream",
     "text": [
      "2023-08-21 14:11:47.980498: I tensorflow/stream_executor/platform/default/dso_loader.cc:49] Successfully opened dynamic library libcudart.so.11.0\n"
     ]
    }
   ],
   "source": [
    "import sys\n",
    "import numpy as np\n",
    "import pandas as pd\n",
    "import pickle\n",
    "import random\n",
    "import os\n",
    "import base64\n",
    "import copy\n",
    "import csv\n",
    "import tensorflow as tf\n",
    "from tensorflow import keras\n",
    "from sklearn.feature_extraction.text import TfidfVectorizer\n",
    "from sklearn import preprocessing\n",
    "random.seed(a=1234567)"
   ]
  },
  {
   "cell_type": "markdown",
   "metadata": {
    "id": "DD-gKEVKl_HY"
   },
   "source": [
    "Preprocessing CAN Dataset"
   ]
  },
  {
   "cell_type": "code",
   "execution_count": 2,
   "metadata": {},
   "outputs": [],
   "source": [
    "#User inputs\n",
    "no_of_2_grams = 256 #Number of 2-gram TF-IDF features\n",
    "no_of_3_grams = 0 #Number of 3-gram TF-IDF features\n",
    "input_type = \"Char\" #Byte, Char or All\n",
    "take_id = True #Take CAN ID as a feature\n",
    "\n",
    "# Set the input CSV file \n",
    "# Make sure it is in correct format with following columns in the order - ID, Data, Label\n",
    "input_csv_file = 'dataset_csv/Attack_Dataset_Driving_no_duplicates.csv'"
   ]
  },
  {
   "cell_type": "code",
   "execution_count": 3,
   "metadata": {},
   "outputs": [],
   "source": [
    "# The output csv file path to save csv without id column\n",
    "dataset_file_no_id = 'dataset_csv/temp/Attacks_D_Sliding_Window_no_id.csv'\n",
    "\n",
    "# Open the input and output files\n",
    "with open(input_csv_file, 'r') as file_in, open(dataset_file_no_id, 'w', newline='') as file_out:\n",
    "    # Create CSV reader and writer objects\n",
    "    reader = csv.reader(file_in)\n",
    "    writer = csv.writer(file_out)\n",
    "    \n",
    "    # Iterate over the rows in the input file\n",
    "    for row in reader:\n",
    "        # Write all columns except the first one to the output file\n",
    "        writer.writerow(row[1:])"
   ]
  },
  {
   "cell_type": "code",
   "execution_count": 4,
   "metadata": {},
   "outputs": [],
   "source": [
    "# The output csv file path to save csv with only id column\n",
    "if take_id:\n",
    "    # Specify the input and output file paths\n",
    "    dataset_file_all_id = 'dataset_csv/temp/Attacks_D_Sliding_Window_all_id.csv'\n",
    "\n",
    "    # Open the input and output files\n",
    "    with open(input_csv_file, 'r') as file_in, open(dataset_file_all_id, 'w', newline='') as file_out:\n",
    "        # Create CSV reader and writer objects\n",
    "        reader = csv.reader(file_in)\n",
    "        writer = csv.writer(file_out)\n",
    "\n",
    "        # Iterate over the rows in the input file\n",
    "        for row in reader:\n",
    "            # Write all columns except the first one to the output file\n",
    "            writer.writerow(row[0])"
   ]
  },
  {
   "cell_type": "code",
   "execution_count": 5,
   "metadata": {},
   "outputs": [
    {
     "name": "stdout",
     "output_type": "stream",
     "text": [
      "C5 00 FC 00 C7 00 8D 0A Spoofing\n",
      "00 00 08 06 00 DE 7A C0 Spoofing\n",
      "00 00 08 06 00 DE 7A C0\n"
     ]
    }
   ],
   "source": [
    "# Convert the CSV file to Text file and Save another csv with only Labels\n",
    "Labels_FileName = 'dataset_csv/temp/Sliding_Window_Labels.csv'\n",
    "Binaries_FileName = 'dataset_csv/temp/Vectors.txt'\n",
    "\n",
    "with open(dataset_file_no_id, 'r') as infile:\n",
    "  Sliding_Window_List = []\n",
    "  for line in infile:\n",
    "    Sliding_Window_List.append(line.strip())\n",
    "\n",
    "Sliding_Window_List = [Sliding_Window_List[ii].replace(\",\", \" \") for ii in range(0, len(Sliding_Window_List))]\n",
    "print(Sliding_Window_List[0])\n",
    "print(Sliding_Window_List[1])\n",
    "\n",
    "# Open the CSV file in write mode\n",
    "with open(Labels_FileName, 'w', newline='') as file:\n",
    "    # Create a CSV writer object\n",
    "    csv_writer = csv.writer(file)\n",
    "\n",
    "    # Write each row with the same value\n",
    "    for lst in Sliding_Window_List:\n",
    "        csv_writer.writerow([lst.rsplit(' ', 1)[1]])\n",
    "\n",
    "#We need to change this for other labels\n",
    "Sliding_Window_Vector = [lst.rsplit(' ', 1)[0] for lst in Sliding_Window_List]\n",
    "print(Sliding_Window_Vector[1])\n",
    "\n",
    "#Write all binaries without labels in file\n",
    "with open(Binaries_FileName, 'w') as f:\n",
    "    for row in Sliding_Window_Vector:\n",
    "        f.write(''.join(map(str, row)) + '\\n')"
   ]
  },
  {
   "cell_type": "code",
   "execution_count": 6,
   "metadata": {},
   "outputs": [
    {
     "name": "stdout",
     "output_type": "stream",
     "text": [
      "709962\n"
     ]
    }
   ],
   "source": [
    "if take_id:\n",
    "    min_value = 0\n",
    "    max_value = 2048\n",
    "    with open(dataset_file_all_id, 'r') as infile:\n",
    "        Id_List = []\n",
    "        for line in infile:\n",
    "            Id_List.append(line.strip())\n",
    "\n",
    "    Id_List = [Id_List[ii].replace(\",\", \"\") for ii in range(0, len(Id_List))]\n",
    "    Id_List = [int(Id_List[ii],16) for ii in range(0, len(Id_List))]\n",
    "    Id_List = [(x - min_value) / (max_value - min_value) for x in Id_List]    \n",
    "    print(len(Id_List))"
   ]
  },
  {
   "cell_type": "code",
   "execution_count": 7,
   "metadata": {},
   "outputs": [
    {
     "name": "stdout",
     "output_type": "stream",
     "text": [
      "Distinct Labels: dict_keys(['Spoofing', 'Normal', 'Fuzzing'])\n",
      "Label Info: dict_values([164410, 500078, 45474])\n",
      "Minimum number of data points in a class: 45474\n",
      "defaultdict(<class 'list'>, {0: [0], 1: [1], 2: [2]})\n",
      "Label to Integer Info: {'Spoofing': 0, 'Normal': 1, 'Fuzzing': 2}\n"
     ]
    }
   ],
   "source": [
    "from collections import defaultdict, Counter\n",
    "\n",
    "label_counter = Counter()\n",
    "num_duplicates = 0\n",
    "label_list = []\n",
    "\n",
    "with open(Binaries_FileName,\"r\") as raw_binaries_file, open(Labels_FileName,\"r\") as binaries_label_file:\n",
    "    for _, label_value_tmp in zip(raw_binaries_file, binaries_label_file):\n",
    "        label_value = label_value_tmp.rstrip('\\n')\n",
    "        label_counter[label_value] += 1\n",
    "        label_list.append(label_value)\n",
    "\n",
    "# We're using a Counter object, so we can simply print its items\n",
    "print('Distinct Labels:', label_counter.keys())\n",
    "print('Label Info:', label_counter.values())\n",
    "\n",
    "min_len = min(label_counter.values()) \n",
    "print('Minimum number of data points in a class:', min_len)\n",
    "\n",
    "# Convert string labels to integers\n",
    "labels_to_integers = {label: i for i, label in enumerate(label_counter.keys())} #labels_to_integers\n",
    "label_list_numeric = [labels_to_integers[label] for label in label_list]\n",
    "class_data_info = defaultdict(list)\n",
    "\n",
    "#Collecting indices belong to each class \n",
    "for i, label in enumerate(label_counter.keys()):\n",
    "    class_data_info[labels_to_integers[label]].append(i)\n",
    "\n",
    "print(class_data_info)\n",
    "\n",
    "class_data_info = []\n",
    "for ii in range(0, len(label_counter.keys())):\n",
    "    class_data_info.append([])\n",
    "\n",
    "#Collecting indices belong to each class\n",
    "for ii in range(0, len(label_list)):\n",
    "    class_data_info[label_list_numeric[ii]].append(ii)\n",
    "\n",
    "print('Label to Integer Info:', labels_to_integers)"
   ]
  },
  {
   "cell_type": "markdown",
   "metadata": {},
   "source": [
    "Splitting Training and Testing Data"
   ]
  },
  {
   "cell_type": "code",
   "execution_count": 8,
   "metadata": {},
   "outputs": [
    {
     "name": "stdout",
     "output_type": "stream",
     "text": [
      "Number of training data per class: 36379\n",
      "Number of testing data per class: 9095\n"
     ]
    }
   ],
   "source": [
    "#Train Test Split\n",
    "train_dps_per_class = int(min_len*0.8)\n",
    "test_dps_per_class = min_len - train_dps_per_class\n",
    "\n",
    "print('Number of training data per class:', train_dps_per_class)\n",
    "print('Number of testing data per class:', test_dps_per_class)"
   ]
  },
  {
   "cell_type": "markdown",
   "metadata": {},
   "source": [
    "Data Balancing"
   ]
  },
  {
   "cell_type": "code",
   "execution_count": 9,
   "metadata": {},
   "outputs": [],
   "source": [
    "# Collecting same number of samples for each class of architecture -> (Data Balancing in each class)\n",
    "picked_data_indices_train = [[] for _ in range(len(labels_to_integers))]\n",
    "picked_data_indices_test = [[] for _ in range(len(labels_to_integers))]\n",
    "\n",
    "for ii in range(len(labels_to_integers)):\n",
    "    train_dps = min(train_dps_per_class, len(class_data_info[ii]))\n",
    "    test_dps = min(test_dps_per_class, len(class_data_info[ii]) - train_dps)\n",
    "\n",
    "    if train_dps > 0:\n",
    "        picked_data_indices_train[ii] += random.sample(class_data_info[ii], train_dps)\n",
    "        class_data_info[ii] = list(set(class_data_info[ii]).difference(set(picked_data_indices_train[ii])))\n",
    "    \n",
    "    if test_dps > 0:\n",
    "        picked_data_indices_test[ii] += random.sample(class_data_info[ii], test_dps)\n",
    "        class_data_info[ii] = list(set(class_data_info[ii]).difference(set(picked_data_indices_test[ii])))\n",
    "\n",
    "Binaries_DataSets_train = []\n",
    "Binaries_DataSets_test = []\n",
    "Binaries_LabelSets_train = []\n",
    "Binaries_LabelSets_test = []\n",
    "Binaries_IdSets_train = []\n",
    "Binaries_IdSets_test = []\n",
    "\n",
    "for ii in range(0, len(labels_to_integers)):\n",
    "    Binaries_DataSets_train += [Sliding_Window_Vector[index] for index in picked_data_indices_train[ii]]\n",
    "    Binaries_LabelSets_train += [label_list[index] for index in picked_data_indices_train[ii]]\n",
    "    Binaries_DataSets_test += [Sliding_Window_Vector[index] for index in picked_data_indices_test[ii]]\n",
    "    Binaries_LabelSets_test += [label_list[index] for index in picked_data_indices_test[ii]]\n",
    "    \n",
    "    if take_id:\n",
    "        Binaries_IdSets_train += [Id_List[index] for index in picked_data_indices_train[ii]]\n",
    "        Binaries_IdSets_test += [Id_List[index] for index in picked_data_indices_test[ii]]\n",
    "\n",
    "with open(\"DistinctLabels.txt\", \"wb\") as fp:   #Pickling\n",
    "    pickle.dump(labels_to_integers, fp)"
   ]
  },
  {
   "cell_type": "markdown",
   "metadata": {
    "id": "N79l7a1JR8Us"
   },
   "source": [
    "### (2) Byte-level N-Gram TF-IDF Features\n",
    "Extract (1,2,3)-Gram TF-IDF features from binaries in Hex format"
   ]
  },
  {
   "cell_type": "code",
   "execution_count": 10,
   "metadata": {},
   "outputs": [],
   "source": [
    "#Function to concatenate two pandas dataframes with unique column names\n",
    "def concat_dfs(df1, df2):    \n",
    "    shift_value = df1.shape[1]\n",
    "    column_reindex = []\n",
    "    \n",
    "    for ii in range(0,df2.shape[1]):\n",
    "        column_reindex.append(str(ii+shift_value))\n",
    "\n",
    "    dictOfColumn_reindex = { ii : column_reindex[ii] for ii in range(0, len(column_reindex)) }\n",
    "    df2 = df2.rename(dictOfColumn_reindex, axis='columns')\n",
    "    df = pd.concat([df1, df2], axis = 1)\n",
    "\n",
    "    return df"
   ]
  },
  {
   "cell_type": "code",
   "execution_count": 11,
   "metadata": {},
   "outputs": [],
   "source": [
    "#Calculate N-gram Byte level features for N = 1,2,3 based on user input and concatenate into one dataframe\n",
    "if input_type == \"Byte\":\n",
    "    vectorizer_12 = TfidfVectorizer(ngram_range = (1,1), lowercase = False)\n",
    "    #fit TF-IDF model using training data and transform training data according to the fitted model\n",
    "    X_train_12 = vectorizer_12.fit_transform(Binaries_DataSets_train)\n",
    "    df_train_Byte_TFIDF_feat_12 = pd.DataFrame(X_train_12.toarray())\n",
    "    df_train_Byte_TFIDF_feat_12['label'] = Binaries_LabelSets_train\n",
    "\n",
    "    ## Transform test data using the fitted model\n",
    "    X_test_12 = vectorizer_12.transform(Binaries_DataSets_test)\n",
    "    df_test_Byte_TFIDF_feat_12 = pd.DataFrame(X_test_12.toarray())\n",
    "    df_test_Byte_TFIDF_feat_12['label'] = Binaries_LabelSets_test\n",
    "    if take_id:\n",
    "        df_train_Byte_TFIDF_feat_12['id'] = Binaries_IdSets_train\n",
    "        df_test_Byte_TFIDF_feat_12['id'] = Binaries_IdSets_test\n",
    "\n",
    "    #For no concatenation case\n",
    "    if no_of_2_grams == 0 and no_of_3_grams == 0:\n",
    "        df_train_Byte_TFIDF_feat = df_train_Byte_TFIDF_feat_12\n",
    "        df_test_Byte_TFIDF_feat = df_test_Byte_TFIDF_feat_12\n",
    "\n",
    "    if no_of_2_grams > 0:\n",
    "        vectorizer_22 = TfidfVectorizer(ngram_range = (2,2), max_features = no_of_2_grams, lowercase = False)\n",
    "        #fit TF-IDF model using training data and transform training data according to the fitted model\n",
    "        X_train_22 = vectorizer_22.fit_transform(Binaries_DataSets_train)\n",
    "        df_train_Byte_TFIDF_feat_22 = pd.DataFrame(X_train_22.toarray())\n",
    "\n",
    "        #transform test data using the fitted model\n",
    "        X_test_22 = vectorizer_22.transform(Binaries_DataSets_test)\n",
    "        df_test_Byte_TFIDF_feat_22 = pd.DataFrame(X_test_22.toarray())\n",
    "\n",
    "    if no_of_3_grams > 0:\n",
    "        vectorizer_3 = TfidfVectorizer(ngram_range = (3,3),max_features = no_of_3_grams,lowercase = False)\n",
    "        #fit TF-IDF model using training data and transform training data according to the fitted model\n",
    "        X_train_3 = vectorizer_3.fit_transform(Binaries_DataSets_train)\n",
    "        df_train_Byte_TFIDF_feat_3 = pd.DataFrame(X_train_3.toarray())\n",
    "\n",
    "        # #transform test data using the fitted model\n",
    "        X_test_3 = vectorizer_3.transform(Binaries_DataSets_test)\n",
    "        df_test_Byte_TFIDF_feat_3 = pd.DataFrame(X_test_3.toarray())\n",
    "\n",
    "    # For Concatenation case\n",
    "    if no_of_2_grams > 0:\n",
    "        df_train_Byte_TFIDF_feat = concat_dfs(df_train_Byte_TFIDF_feat_12, df_train_Byte_TFIDF_feat_22)\n",
    "        df_test_Byte_TFIDF_feat = concat_dfs(df_test_Byte_TFIDF_feat_12, df_test_Byte_TFIDF_feat_22)\n",
    "\n",
    "    if no_of_2_grams > 0 and no_of_3_grams > 0:\n",
    "        df_train_Byte_TFIDF_feat = concat_dfs(df_train_Byte_TFIDF_feat, df_train_Byte_TFIDF_feat_3)\n",
    "        df_test_Byte_TFIDF_feat = concat_dfs(df_test_Byte_TFIDF_feat, df_test_Byte_TFIDF_feat_3)\n",
    "\n",
    "    if no_of_3_grams > 0 and no_of_2_grams == 0:\n",
    "        df_train_Byte_TFIDF_feat = concat_dfs(df_train_Byte_TFIDF_feat_12, df_train_Byte_TFIDF_feat_3)\n",
    "        df_test_Byte_TFIDF_feat = concat_dfs(df_test_Byte_TFIDF_feat_12, df_test_Byte_TFIDF_feat_3)\n",
    "\n",
    "    df_train_Byte_TFIDF_feat = df_train_Byte_TFIDF_feat.sample(frac=1)\n",
    "    df_test_Byte_TFIDF_feat = df_test_Byte_TFIDF_feat.sample(frac=1)"
   ]
  },
  {
   "cell_type": "markdown",
   "metadata": {
    "id": "qdaIj6nfXb8a"
   },
   "source": [
    "Data processing for Character level TF-IDF"
   ]
  },
  {
   "cell_type": "code",
   "execution_count": 12,
   "metadata": {
    "id": "TUUnh1g4Xao1"
   },
   "outputs": [],
   "source": [
    "#Remove all spaces in data field for calculating character level features\n",
    "Binaries_DataSets_train_B16 = [Binaries_DataSets_train[ii].replace(\" \", \"\") for ii in range(0, len(Binaries_DataSets_train))]\n",
    "Binaries_DataSets_test_B16 = [Binaries_DataSets_test[ii].replace(\" \", \"\") for ii in range(0, len(Binaries_DataSets_test))]"
   ]
  },
  {
   "cell_type": "markdown",
   "metadata": {
    "id": "GCbaNu-pJ5TR"
   },
   "source": [
    "Character level (1,2,3)-gram TF-IDF (Change list parameters after discussion)"
   ]
  },
  {
   "cell_type": "code",
   "execution_count": 13,
   "metadata": {
    "id": "03nXjhF_U6yk"
   },
   "outputs": [],
   "source": [
    "#Calculate N-gram Character level features for N = 1,2,3 based on user input and concatenate into one dataframe\n",
    "if input_type == \"Char\":\n",
    "    vectorizer_11_B16 = TfidfVectorizer(ngram_range = (1,1), lowercase = False, analyzer = 'char')\n",
    "    #fit TF-IDF model using training data and transform training data according to the fitted model\n",
    "    X_train_11_B16 = vectorizer_11_B16.fit_transform(Binaries_DataSets_train_B16)\n",
    "    df_train_CharB16_TFIDF_feat_11 = pd.DataFrame(X_train_11_B16.toarray())\n",
    "    df_train_CharB16_TFIDF_feat_11['label'] = Binaries_LabelSets_train\n",
    "    \n",
    "    #transform test data using the fitted model\n",
    "    X_test_11_B16 = vectorizer_11_B16.transform(Binaries_DataSets_test_B16)\n",
    "    df_test_CharB16_TFIDF_feat_11 = pd.DataFrame(X_test_11_B16.toarray())\n",
    "    df_test_CharB16_TFIDF_feat_11['label'] = Binaries_LabelSets_test\n",
    "    \n",
    "    if take_id:\n",
    "        df_train_CharB16_TFIDF_feat_11['id'] = Binaries_IdSets_train\n",
    "        df_test_CharB16_TFIDF_feat_11['id'] = Binaries_IdSets_test\n",
    "    ##For no concat\n",
    "    if no_of_2_grams == 0 and no_of_3_grams == 0:\n",
    "        df_train_Char_TFIDF_feat = df_train_CharB16_TFIDF_feat_11\n",
    "        df_test_Char_TFIDF_feat = df_test_CharB16_TFIDF_feat_11\n",
    "\n",
    "    if no_of_2_grams > 0:\n",
    "        vectorizer_22_B16 = TfidfVectorizer(ngram_range = (2,2), max_features = no_of_2_grams, lowercase = False, analyzer = 'char')\n",
    "        #fit TF-IDF model using training data and transform training data according to the fitted model\n",
    "        X_train_22_B16 = vectorizer_22_B16.fit_transform(Binaries_DataSets_train_B16)\n",
    "        df_train_CharB16_TFIDF_feat_22 = pd.DataFrame(X_train_22_B16.toarray())\n",
    "\n",
    "        #transform test data using the fitted model\n",
    "        X_test_22_B16 = vectorizer_22_B16.transform(Binaries_DataSets_test_B16)\n",
    "        df_test_CharB16_TFIDF_feat_22 = pd.DataFrame(X_test_22_B16.toarray())\n",
    "\n",
    "    if no_of_3_grams > 0:\n",
    "        vectorizer_33_B16 = TfidfVectorizer(ngram_range = (3,3), max_features = no_of_3_grams, lowercase = False, analyzer = 'char')\n",
    "        #fit TF-IDF model using training data and transform training data according to the fitted model\n",
    "        X_train_33_B16 = vectorizer_33_B16.fit_transform(Binaries_DataSets_train_B16)\n",
    "        df_train_CharB16_TFIDF_feat_33 = pd.DataFrame(X_train_33_B16.toarray())\n",
    "\n",
    "        #transform test data using the fitted model\n",
    "        X_test_33_B16 = vectorizer_33_B16.transform(Binaries_DataSets_test_B16)\n",
    "        df_test_CharB16_TFIDF_feat_33 = pd.DataFrame(X_test_33_B16.toarray())\n",
    "    \n",
    "    # Concatenations \n",
    "    if no_of_2_grams > 0:\n",
    "        df_train_Char_TFIDF_feat = concat_dfs(df_train_CharB16_TFIDF_feat_11, df_train_CharB16_TFIDF_feat_22)\n",
    "        df_test_Char_TFIDF_feat = concat_dfs(df_test_CharB16_TFIDF_feat_11, df_test_CharB16_TFIDF_feat_22)\n",
    "    \n",
    "    if no_of_2_grams > 0 and no_of_3_grams > 0:\n",
    "        df_train_Char_TFIDF_feat = concat_dfs(df_train_Char_TFIDF_feat, df_train_CharB16_TFIDF_feat_33)\n",
    "        df_test_Char_TFIDF_feat = concat_dfs(df_test_Char_TFIDF_feat, df_test_CharB16_TFIDF_feat_33)\n",
    "\n",
    "    if no_of_3_grams > 0 and no_of_2_grams == 0:\n",
    "        df_train_Char_TFIDF_feat = concat_dfs(df_train_CharB16_TFIDF_feat_11, df_train_CharB16_TFIDF_feat_33)\n",
    "        df_test_Char_TFIDF_feat = concat_dfs(df_test_CharB16_TFIDF_feat_11, df_test_CharB16_TFIDF_feat_33)\n",
    "\n",
    "    df_train_Char_TFIDF_feat = df_train_Char_TFIDF_feat.sample(frac=1)\n",
    "    df_test_Char_TFIDF_feat = df_test_Char_TFIDF_feat.sample(frac=1)"
   ]
  },
  {
   "cell_type": "code",
   "execution_count": 14,
   "metadata": {},
   "outputs": [],
   "source": [
    "#Convert all pandas data frames to numpy arrays\n",
    "if input_type==\"Char\":\n",
    "    df_train_Byte_TFIDF_feat_label_convert = df_train_Char_TFIDF_feat.replace({'label' : labels_to_integers})\n",
    "    df_train_Byte_TFIDF_feat_no_label = df_train_Byte_TFIDF_feat_label_convert.drop('label', axis=1)\n",
    "    inputs = df_train_Byte_TFIDF_feat_no_label.to_numpy()\n",
    "    outputs_string = df_train_Char_TFIDF_feat['label'].to_numpy()\n",
    "\n",
    "    df_test_Byte_TFIDF_feat_label_convert = df_test_Char_TFIDF_feat.replace({'label' : labels_to_integers})\n",
    "    df_test_Byte_TFIDF_feat_no_label = df_test_Byte_TFIDF_feat_label_convert.drop('label', axis=1)\n",
    "    inputs_test = df_test_Byte_TFIDF_feat_no_label.to_numpy()\n",
    "    outputs_string_test = df_test_Char_TFIDF_feat['label'].to_numpy()\n",
    "else:\n",
    "    df_train_Byte_TFIDF_feat_label_convert = df_train_Byte_TFIDF_feat.replace({'label' : labels_to_integers})\n",
    "    df_train_Byte_TFIDF_feat_no_label = df_train_Byte_TFIDF_feat_label_convert.drop('label', axis=1)\n",
    "    inputs = df_train_Byte_TFIDF_feat_no_label.to_numpy()\n",
    "    outputs_string = df_train_Byte_TFIDF_feat['label'].to_numpy()\n",
    "\n",
    "    df_test_Byte_TFIDF_feat_label_convert = df_test_Byte_TFIDF_feat.replace({'label' : labels_to_integers})\n",
    "    df_test_Byte_TFIDF_feat_no_label = df_test_Byte_TFIDF_feat_label_convert.drop('label', axis=1)\n",
    "    inputs_test = df_test_Byte_TFIDF_feat_no_label.to_numpy()\n",
    "    outputs_string_test = df_test_Byte_TFIDF_feat['label'].to_numpy()"
   ]
  },
  {
   "cell_type": "code",
   "execution_count": 15,
   "metadata": {},
   "outputs": [],
   "source": [
    "#Set random seed\n",
    "np.random.seed(30)\n",
    "tf.random.set_seed(30)"
   ]
  },
  {
   "cell_type": "code",
   "execution_count": 16,
   "metadata": {},
   "outputs": [],
   "source": [
    "#Convert inputs to float32 type\n",
    "X_train = inputs.astype('float32')\n",
    "X_test = inputs_test.astype('float32')"
   ]
  },
  {
   "cell_type": "markdown",
   "metadata": {},
   "source": [
    "Change this logic for multiclass"
   ]
  },
  {
   "cell_type": "code",
   "execution_count": 17,
   "metadata": {},
   "outputs": [],
   "source": [
    "#Convert labels to integers\n",
    "mapping = labels_to_integers\n",
    "\n",
    "Y_train1 = outputs_string\n",
    "Y_test1 = outputs_string_test\n",
    "# Replace values using numpy.where()\n",
    "for integer in labels_to_integers.keys():\n",
    "    Y_train1 = np.where(Y_train1 == integer, mapping[integer], Y_train1)\n",
    "    Y_test1 = np.where(Y_test1 == integer, mapping[integer], Y_test1)"
   ]
  },
  {
   "cell_type": "code",
   "execution_count": 18,
   "metadata": {},
   "outputs": [],
   "source": [
    "#Convert labels to categorical\n",
    "num_labels=len(labels_to_integers.keys())\n",
    "Y_train = tf.keras.utils.to_categorical(Y_train1, num_classes=num_labels)\n",
    "Y_test = tf.keras.utils.to_categorical(Y_test1, num_classes=num_labels)"
   ]
  },
  {
   "cell_type": "code",
   "execution_count": 19,
   "metadata": {},
   "outputs": [],
   "source": [
    "#Randomize order of inputs\n",
    "num_inputs = len(X_train)\n",
    "randomize = np.arange(num_inputs)\n",
    "np.random.shuffle(randomize)\n",
    "\n",
    "X_train = X_train[randomize]\n",
    "Y_train = Y_train[randomize]"
   ]
  },
  {
   "cell_type": "code",
   "execution_count": 20,
   "metadata": {},
   "outputs": [
    {
     "name": "stdout",
     "output_type": "stream",
     "text": [
      "Model: \"sequential\"\n",
      "_________________________________________________________________\n",
      "Layer (type)                 Output Shape              Param #   \n",
      "=================================================================\n",
      "dense (Dense)                (None, 128)               35072     \n",
      "_________________________________________________________________\n",
      "dropout (Dropout)            (None, 128)               0         \n",
      "_________________________________________________________________\n",
      "dense_1 (Dense)              (None, 64)                8256      \n",
      "_________________________________________________________________\n",
      "dense_2 (Dense)              (None, 3)                 195       \n",
      "=================================================================\n",
      "Total params: 43,523\n",
      "Trainable params: 43,523\n",
      "Non-trainable params: 0\n",
      "_________________________________________________________________\n",
      "None\n"
     ]
    },
    {
     "name": "stderr",
     "output_type": "stream",
     "text": [
      "2023-08-21 14:11:56.249845: I tensorflow/compiler/jit/xla_cpu_device.cc:41] Not creating XLA devices, tf_xla_enable_xla_devices not set\n",
      "2023-08-21 14:11:56.250532: I tensorflow/stream_executor/platform/default/dso_loader.cc:49] Successfully opened dynamic library libcuda.so.1\n",
      "2023-08-21 14:11:56.281780: I tensorflow/core/common_runtime/gpu/gpu_device.cc:1720] Found device 0 with properties: \n",
      "pciBusID: 0000:1a:00.0 name: NVIDIA GeForce RTX 2080 Ti computeCapability: 7.5\n",
      "coreClock: 1.545GHz coreCount: 68 deviceMemorySize: 10.76GiB deviceMemoryBandwidth: 573.69GiB/s\n",
      "2023-08-21 14:11:56.282236: I tensorflow/core/common_runtime/gpu/gpu_device.cc:1720] Found device 1 with properties: \n",
      "pciBusID: 0000:68:00.0 name: NVIDIA GeForce RTX 2080 Ti computeCapability: 7.5\n",
      "coreClock: 1.545GHz coreCount: 68 deviceMemorySize: 10.76GiB deviceMemoryBandwidth: 573.69GiB/s\n",
      "2023-08-21 14:11:56.282276: I tensorflow/stream_executor/platform/default/dso_loader.cc:49] Successfully opened dynamic library libcudart.so.11.0\n",
      "2023-08-21 14:11:56.288121: I tensorflow/stream_executor/platform/default/dso_loader.cc:49] Successfully opened dynamic library libcublas.so.11\n",
      "2023-08-21 14:11:56.288200: I tensorflow/stream_executor/platform/default/dso_loader.cc:49] Successfully opened dynamic library libcublasLt.so.11\n",
      "2023-08-21 14:11:56.314358: I tensorflow/stream_executor/platform/default/dso_loader.cc:49] Successfully opened dynamic library libcufft.so.10\n",
      "2023-08-21 14:11:56.314592: I tensorflow/stream_executor/platform/default/dso_loader.cc:49] Successfully opened dynamic library libcurand.so.10\n",
      "2023-08-21 14:11:56.315755: I tensorflow/stream_executor/platform/default/dso_loader.cc:49] Successfully opened dynamic library libcusolver.so.10\n",
      "2023-08-21 14:11:56.316368: I tensorflow/stream_executor/platform/default/dso_loader.cc:49] Successfully opened dynamic library libcusparse.so.11\n",
      "2023-08-21 14:11:56.316549: W tensorflow/stream_executor/platform/default/dso_loader.cc:60] Could not load dynamic library 'libcudnn.so.8'; dlerror: libcudnn.so.8: cannot open shared object file: No such file or directory\n",
      "2023-08-21 14:11:56.316557: W tensorflow/core/common_runtime/gpu/gpu_device.cc:1757] Cannot dlopen some GPU libraries. Please make sure the missing libraries mentioned above are installed properly if you would like to use GPU. Follow the guide at https://www.tensorflow.org/install/gpu for how to download and setup the required libraries for your platform.\n",
      "Skipping registering GPU devices...\n",
      "2023-08-21 14:11:56.316833: I tensorflow/core/platform/cpu_feature_guard.cc:142] This TensorFlow binary is optimized with oneAPI Deep Neural Network Library (oneDNN) to use the following CPU instructions in performance-critical operations:  AVX2 AVX512F FMA\n",
      "To enable them in other operations, rebuild TensorFlow with the appropriate compiler flags.\n",
      "2023-08-21 14:11:56.317609: I tensorflow/compiler/jit/xla_gpu_device.cc:99] Not creating XLA devices, tf_xla_enable_xla_devices not set\n",
      "2023-08-21 14:11:56.317630: I tensorflow/core/common_runtime/gpu/gpu_device.cc:1261] Device interconnect StreamExecutor with strength 1 edge matrix:\n",
      "2023-08-21 14:11:56.317634: I tensorflow/core/common_runtime/gpu/gpu_device.cc:1267]      \n"
     ]
    }
   ],
   "source": [
    "#Set dropout rate \n",
    "dropout_rate = 0.15\n",
    "model_path = \"models\"\n",
    "\n",
    "#Add model architecture\n",
    "model = keras.models.Sequential()\n",
    "model.add(keras.layers.Dense(128, activation='relu', input_dim=X_train.shape[1]))\n",
    "model.add(keras.layers.Dropout(dropout_rate))\n",
    "model.add(keras.layers.Dense(64, activation='relu'))\n",
    "model.add(keras.layers.Dense(len(labels_to_integers.keys()), activation='softmax'))\n",
    "\n",
    "#Check model architecture\n",
    "print(model.summary())\n",
    "\n",
    "#Add Adam optimizer\n",
    "opt = keras.optimizers.Adam(learning_rate=0.001,\n",
    "                            beta_1=0.9,\n",
    "                            beta_2=0.999,\n",
    "                            epsilon=1e-07)\n",
    "#Compile model with Categorical Crossentropy loss function and for classification accuracy\n",
    "model.compile(\n",
    "    loss='categorical_crossentropy',\n",
    "    optimizer=opt,\n",
    "    metrics=['accuracy']\n",
    ")"
   ]
  },
  {
   "cell_type": "code",
   "execution_count": 21,
   "metadata": {},
   "outputs": [
    {
     "name": "stderr",
     "output_type": "stream",
     "text": [
      "Using TensorFlow backend.\n"
     ]
    }
   ],
   "source": [
    "#Import for Keras callback\n",
    "from keras import backend as K\n",
    "from keras.callbacks import ModelCheckpoint, EarlyStopping, ReduceLROnPlateau\n",
    "\n",
    "def callbacks(PATH_BEST_MODEL, monitor, verbose, mode, save_best_only):  \n",
    "    \n",
    "    checkpoint = ModelCheckpoint(\n",
    "        os.path.join(PATH_BEST_MODEL, 'dnn.hdf5'), \n",
    "        monitor=monitor, \n",
    "        verbose=verbose, \n",
    "        mode=mode, \n",
    "        save_best_only=save_best_only\n",
    "    )\n",
    "\n",
    "    return [checkpoint]"
   ]
  },
  {
   "cell_type": "code",
   "execution_count": 22,
   "metadata": {},
   "outputs": [
    {
     "name": "stderr",
     "output_type": "stream",
     "text": [
      "2023-08-21 14:11:56.450520: I tensorflow/compiler/mlir/mlir_graph_optimization_pass.cc:116] None of the MLIR optimization passes are enabled (registered 2)\n",
      "2023-08-21 14:11:56.467688: I tensorflow/core/platform/profile_utils/cpu_utils.cc:112] CPU Frequency: 3699850000 Hz\n"
     ]
    },
    {
     "name": "stdout",
     "output_type": "stream",
     "text": [
      "Epoch 1/30\n",
      "171/171 [==============================] - 1s 7ms/step - loss: 0.7614 - accuracy: 0.6842 - val_loss: 0.3879 - val_accuracy: 0.8459\n",
      "\n",
      "Epoch 00001: val_accuracy improved from -inf to 0.84589, saving model to models/dnn.hdf5\n",
      "Epoch 2/30\n",
      "171/171 [==============================] - 1s 5ms/step - loss: 0.3721 - accuracy: 0.8555 - val_loss: 0.2883 - val_accuracy: 0.8962\n",
      "\n",
      "Epoch 00002: val_accuracy improved from 0.84589 to 0.89619, saving model to models/dnn.hdf5\n",
      "Epoch 3/30\n",
      "171/171 [==============================] - 1s 5ms/step - loss: 0.2827 - accuracy: 0.8971 - val_loss: 0.2368 - val_accuracy: 0.9198\n",
      "\n",
      "Epoch 00003: val_accuracy improved from 0.89619 to 0.91978, saving model to models/dnn.hdf5\n",
      "Epoch 4/30\n",
      "171/171 [==============================] - 1s 5ms/step - loss: 0.2335 - accuracy: 0.9207 - val_loss: 0.2033 - val_accuracy: 0.9350\n",
      "\n",
      "Epoch 00004: val_accuracy improved from 0.91978 to 0.93504, saving model to models/dnn.hdf5\n",
      "Epoch 5/30\n",
      "171/171 [==============================] - 1s 5ms/step - loss: 0.1991 - accuracy: 0.9332 - val_loss: 0.1818 - val_accuracy: 0.9432\n",
      "\n",
      "Epoch 00005: val_accuracy improved from 0.93504 to 0.94324, saving model to models/dnn.hdf5\n",
      "Epoch 6/30\n",
      "171/171 [==============================] - 1s 5ms/step - loss: 0.1769 - accuracy: 0.9436 - val_loss: 0.1703 - val_accuracy: 0.9462\n",
      "\n",
      "Epoch 00006: val_accuracy improved from 0.94324 to 0.94617, saving model to models/dnn.hdf5\n",
      "Epoch 7/30\n",
      "171/171 [==============================] - 1s 5ms/step - loss: 0.1621 - accuracy: 0.9482 - val_loss: 0.1578 - val_accuracy: 0.9522\n",
      "\n",
      "Epoch 00007: val_accuracy improved from 0.94617 to 0.95222, saving model to models/dnn.hdf5\n",
      "Epoch 8/30\n",
      "171/171 [==============================] - 1s 5ms/step - loss: 0.1466 - accuracy: 0.9543 - val_loss: 0.1525 - val_accuracy: 0.9532\n",
      "\n",
      "Epoch 00008: val_accuracy improved from 0.95222 to 0.95323, saving model to models/dnn.hdf5\n",
      "Epoch 9/30\n",
      "171/171 [==============================] - 1s 5ms/step - loss: 0.1358 - accuracy: 0.9585 - val_loss: 0.1460 - val_accuracy: 0.9544\n",
      "\n",
      "Epoch 00009: val_accuracy improved from 0.95323 to 0.95442, saving model to models/dnn.hdf5\n",
      "Epoch 10/30\n",
      "171/171 [==============================] - 1s 5ms/step - loss: 0.1284 - accuracy: 0.9607 - val_loss: 0.1455 - val_accuracy: 0.9554\n",
      "\n",
      "Epoch 00010: val_accuracy improved from 0.95442 to 0.95542, saving model to models/dnn.hdf5\n",
      "Epoch 11/30\n",
      "171/171 [==============================] - 1s 5ms/step - loss: 0.1191 - accuracy: 0.9637 - val_loss: 0.1411 - val_accuracy: 0.9576\n",
      "\n",
      "Epoch 00011: val_accuracy improved from 0.95542 to 0.95758, saving model to models/dnn.hdf5\n",
      "Epoch 12/30\n",
      "171/171 [==============================] - 1s 5ms/step - loss: 0.1145 - accuracy: 0.9664 - val_loss: 0.1359 - val_accuracy: 0.9590\n",
      "\n",
      "Epoch 00012: val_accuracy improved from 0.95758 to 0.95900, saving model to models/dnn.hdf5\n",
      "Epoch 13/30\n",
      "171/171 [==============================] - 1s 5ms/step - loss: 0.1071 - accuracy: 0.9677 - val_loss: 0.1349 - val_accuracy: 0.9590\n",
      "\n",
      "Epoch 00013: val_accuracy improved from 0.95900 to 0.95904, saving model to models/dnn.hdf5\n",
      "Epoch 14/30\n",
      "171/171 [==============================] - 1s 5ms/step - loss: 0.1040 - accuracy: 0.9697 - val_loss: 0.1351 - val_accuracy: 0.9593\n",
      "\n",
      "Epoch 00014: val_accuracy improved from 0.95904 to 0.95927, saving model to models/dnn.hdf5\n",
      "Epoch 15/30\n",
      "171/171 [==============================] - 1s 5ms/step - loss: 0.0980 - accuracy: 0.9706 - val_loss: 0.1345 - val_accuracy: 0.9604\n",
      "\n",
      "Epoch 00015: val_accuracy improved from 0.95927 to 0.96042, saving model to models/dnn.hdf5\n",
      "Epoch 16/30\n",
      "171/171 [==============================] - 1s 5ms/step - loss: 0.0971 - accuracy: 0.9719 - val_loss: 0.1364 - val_accuracy: 0.9594\n",
      "\n",
      "Epoch 00016: val_accuracy did not improve from 0.96042\n",
      "Epoch 17/30\n",
      "171/171 [==============================] - 1s 5ms/step - loss: 0.0908 - accuracy: 0.9753 - val_loss: 0.1323 - val_accuracy: 0.9609\n",
      "\n",
      "Epoch 00017: val_accuracy improved from 0.96042 to 0.96092, saving model to models/dnn.hdf5\n",
      "Epoch 18/30\n",
      "171/171 [==============================] - 1s 5ms/step - loss: 0.0904 - accuracy: 0.9738 - val_loss: 0.1332 - val_accuracy: 0.9608\n",
      "\n",
      "Epoch 00018: val_accuracy did not improve from 0.96092\n",
      "Epoch 19/30\n",
      "171/171 [==============================] - 1s 5ms/step - loss: 0.0856 - accuracy: 0.9745 - val_loss: 0.1323 - val_accuracy: 0.9620\n",
      "\n",
      "Epoch 00019: val_accuracy improved from 0.96092 to 0.96202, saving model to models/dnn.hdf5\n",
      "Epoch 20/30\n",
      "171/171 [==============================] - 1s 5ms/step - loss: 0.0821 - accuracy: 0.9761 - val_loss: 0.1318 - val_accuracy: 0.9613\n",
      "\n",
      "Epoch 00020: val_accuracy did not improve from 0.96202\n",
      "Epoch 21/30\n",
      "171/171 [==============================] - 1s 5ms/step - loss: 0.0798 - accuracy: 0.9771 - val_loss: 0.1308 - val_accuracy: 0.9620\n",
      "\n",
      "Epoch 00021: val_accuracy did not improve from 0.96202\n",
      "Epoch 22/30\n",
      "171/171 [==============================] - 1s 5ms/step - loss: 0.0773 - accuracy: 0.9781 - val_loss: 0.1341 - val_accuracy: 0.9616\n",
      "\n",
      "Epoch 00022: val_accuracy did not improve from 0.96202\n",
      "Epoch 23/30\n",
      "171/171 [==============================] - 1s 5ms/step - loss: 0.0755 - accuracy: 0.9782 - val_loss: 0.1349 - val_accuracy: 0.9621\n",
      "\n",
      "Epoch 00023: val_accuracy improved from 0.96202 to 0.96211, saving model to models/dnn.hdf5\n",
      "Epoch 24/30\n",
      "171/171 [==============================] - 1s 5ms/step - loss: 0.0727 - accuracy: 0.9794 - val_loss: 0.1335 - val_accuracy: 0.9620\n",
      "\n",
      "Epoch 00024: val_accuracy did not improve from 0.96211\n",
      "Epoch 25/30\n",
      "171/171 [==============================] - 1s 5ms/step - loss: 0.0722 - accuracy: 0.9785 - val_loss: 0.1354 - val_accuracy: 0.9618\n",
      "\n",
      "Epoch 00025: val_accuracy did not improve from 0.96211\n",
      "Epoch 26/30\n",
      "171/171 [==============================] - 1s 5ms/step - loss: 0.0685 - accuracy: 0.9805 - val_loss: 0.1362 - val_accuracy: 0.9618\n",
      "\n",
      "Epoch 00026: val_accuracy did not improve from 0.96211\n",
      "Epoch 27/30\n",
      "171/171 [==============================] - 1s 5ms/step - loss: 0.0667 - accuracy: 0.9803 - val_loss: 0.1365 - val_accuracy: 0.9621\n",
      "\n",
      "Epoch 00027: val_accuracy did not improve from 0.96211\n",
      "Epoch 28/30\n",
      "171/171 [==============================] - 1s 5ms/step - loss: 0.0637 - accuracy: 0.9813 - val_loss: 0.1381 - val_accuracy: 0.9621\n",
      "\n",
      "Epoch 00028: val_accuracy did not improve from 0.96211\n",
      "Epoch 29/30\n",
      "171/171 [==============================] - 1s 5ms/step - loss: 0.0616 - accuracy: 0.9818 - val_loss: 0.1391 - val_accuracy: 0.9614\n",
      "\n",
      "Epoch 00029: val_accuracy did not improve from 0.96211\n",
      "Epoch 30/30\n",
      "171/171 [==============================] - 1s 5ms/step - loss: 0.0605 - accuracy: 0.9814 - val_loss: 0.1426 - val_accuracy: 0.9622\n",
      "\n",
      "Epoch 00030: val_accuracy improved from 0.96211 to 0.96216, saving model to models/dnn.hdf5\n"
     ]
    }
   ],
   "source": [
    "#Run model with hyperparameters\n",
    "history = model.fit(X_train, Y_train, epochs=30, initial_epoch=0, verbose=1, batch_size=512, validation_split=0.2, use_multiprocessing=True,\n",
    "                    callbacks=callbacks(      \n",
    "                PATH_BEST_MODEL=model_path,\n",
    "                monitor=\"val_accuracy\",\n",
    "                verbose=1, \n",
    "                mode=\"max\", \n",
    "                save_best_only=True\n",
    "            ),)"
   ]
  },
  {
   "cell_type": "code",
   "execution_count": 23,
   "metadata": {},
   "outputs": [],
   "source": [
    "#Load the best model\n",
    "model_path_full = 'models/dnn.hdf5'\n",
    "model = tf.keras.models.load_model(model_path_full)"
   ]
  },
  {
   "cell_type": "code",
   "execution_count": 24,
   "metadata": {},
   "outputs": [
    {
     "data": {
      "image/png": "[encoded data removed]",
      "text/plain": [
       "<Figure size 432x432 with 1 Axes>"
      ]
     },
     "metadata": {
      "needs_background": "light"
     },
     "output_type": "display_data"
    }
   ],
   "source": [
    "#Plot the Accuracy and Loss curves\n",
    "from matplotlib import pyplot as plt\n",
    "fig, axes = plt.subplots(1, 1, figsize=(6, 6))\n",
    "plt.plot(history.history['accuracy'])\n",
    "plt.plot(history.history['val_accuracy'])\n",
    "plt.plot(history.history['loss'])\n",
    "plt.plot(history.history['val_loss'])\n",
    "plt.title('Accuracy and Loss Curves', fontweight='bold', fontsize=18)\n",
    "# plt.ylabel('Accuracy & Loss', fontweight='bold', fontsize=13)\n",
    "plt.xlabel('Number of Epochs', fontweight='bold', fontsize=14)\n",
    "plt.legend(['Train F1-score', 'Validation F1-score', 'Train Loss', 'Validation Loss'], loc='right', fontsize=12)\n",
    "plt.show()\n",
    "fig.savefig('results/Model_F1-Score_and_Loss_Curves.png')"
   ]
  },
  {
   "cell_type": "code",
   "execution_count": 25,
   "metadata": {},
   "outputs": [
    {
     "name": "stdout",
     "output_type": "stream",
     "text": [
      "Test set performance\n",
      "853/853 [==============================] - 1s 1ms/step - loss: 0.1381 - accuracy: 0.9625\n"
     ]
    }
   ],
   "source": [
    "print('Test set performance')\n",
    "test_perf = model.evaluate(X_test, Y_test)"
   ]
  },
  {
   "cell_type": "code",
   "execution_count": 26,
   "metadata": {},
   "outputs": [
    {
     "name": "stdout",
     "output_type": "stream",
     "text": [
      "              precision    recall  f1-score   support\n",
      "\n",
      "           0       0.96      0.93      0.95      9095\n",
      "           1       0.96      0.97      0.97      9095\n",
      "           2       0.96      0.98      0.97      9095\n",
      "\n",
      "    accuracy                           0.96     27285\n",
      "   macro avg       0.96      0.96      0.96     27285\n",
      "weighted avg       0.96      0.96      0.96     27285\n",
      "\n"
     ]
    }
   ],
   "source": [
    "#Evaluate and create a Classification Report and save it\n",
    "from sklearn.metrics import classification_report\n",
    "\n",
    "# Assuming 'model' is your trained Keras model and 'x_test', 'y_test' are your test data\n",
    "y_pred = model.predict(X_test)\n",
    "y_pred_classes = y_pred.argmax(axis=-1)\n",
    "y_true_classes = Y_test.argmax(axis=-1)\n",
    "\n",
    "#Create Classification Report\n",
    "print(classification_report(y_true_classes, y_pred_classes))\n",
    "report = classification_report(y_true_classes, y_pred_classes, output_dict=True)\n",
    "\n",
    "#Save it in csv\n",
    "df_dnn = pd.DataFrame(report).transpose()\n",
    "if input_type == \"Byte\":\n",
    "    df_dnn.to_csv('results/DNN Report Byte.csv')\n",
    "else:\n",
    "    df_dnn.to_csv('results/DNN Report Char.csv')"
   ]
  },
  {
   "cell_type": "code",
   "execution_count": 27,
   "metadata": {},
   "outputs": [
    {
     "name": "stdout",
     "output_type": "stream",
     "text": [
      "[0.13808844983577728, 0.9624702334403992]\n"
     ]
    }
   ],
   "source": [
    "print(test_perf)"
   ]
  },
  {
   "cell_type": "code",
   "execution_count": 28,
   "metadata": {},
   "outputs": [
    {
     "name": "stderr",
     "output_type": "stream",
     "text": [
      "2023-08-21 14:12:27.477560: W tensorflow/python/util/util.cc:348] Sets are not currently considered sequences, but this may change in the future, so consider avoiding using them.\n"
     ]
    },
    {
     "name": "stdout",
     "output_type": "stream",
     "text": [
      "INFO:tensorflow:Assets written to: /tmp/tmp9sd4ipss/assets\n"
     ]
    },
    {
     "name": "stderr",
     "output_type": "stream",
     "text": [
      "2023-08-21 14:12:27.740177: I tensorflow/core/grappler/devices.cc:69] Number of eligible GPUs (core count >= 8, compute capability >= 0.0): 2\n",
      "2023-08-21 14:12:27.740247: I tensorflow/core/grappler/clusters/single_machine.cc:356] Starting new session\n",
      "2023-08-21 14:12:27.740533: I tensorflow/compiler/jit/xla_gpu_device.cc:99] Not creating XLA devices, tf_xla_enable_xla_devices not set\n",
      "2023-08-21 14:12:27.880670: I tensorflow/core/common_runtime/gpu/gpu_device.cc:1720] Found device 0 with properties: \n",
      "pciBusID: 0000:1a:00.0 name: NVIDIA GeForce RTX 2080 Ti computeCapability: 7.5\n",
      "coreClock: 1.545GHz coreCount: 68 deviceMemorySize: 10.76GiB deviceMemoryBandwidth: 573.69GiB/s\n",
      "2023-08-21 14:12:27.880849: I tensorflow/core/common_runtime/gpu/gpu_device.cc:1720] Found device 1 with properties: \n",
      "pciBusID: 0000:68:00.0 name: NVIDIA GeForce RTX 2080 Ti computeCapability: 7.5\n",
      "coreClock: 1.545GHz coreCount: 68 deviceMemorySize: 10.76GiB deviceMemoryBandwidth: 573.69GiB/s\n",
      "2023-08-21 14:12:27.880877: I tensorflow/stream_executor/platform/default/dso_loader.cc:49] Successfully opened dynamic library libcudart.so.11.0\n",
      "2023-08-21 14:12:27.880897: I tensorflow/stream_executor/platform/default/dso_loader.cc:49] Successfully opened dynamic library libcublas.so.11\n",
      "2023-08-21 14:12:27.880905: I tensorflow/stream_executor/platform/default/dso_loader.cc:49] Successfully opened dynamic library libcublasLt.so.11\n",
      "2023-08-21 14:12:27.880912: I tensorflow/stream_executor/platform/default/dso_loader.cc:49] Successfully opened dynamic library libcufft.so.10\n",
      "2023-08-21 14:12:27.880920: I tensorflow/stream_executor/platform/default/dso_loader.cc:49] Successfully opened dynamic library libcurand.so.10\n",
      "2023-08-21 14:12:27.880927: I tensorflow/stream_executor/platform/default/dso_loader.cc:49] Successfully opened dynamic library libcusolver.so.10\n",
      "2023-08-21 14:12:27.880934: I tensorflow/stream_executor/platform/default/dso_loader.cc:49] Successfully opened dynamic library libcusparse.so.11\n",
      "2023-08-21 14:12:27.880990: W tensorflow/stream_executor/platform/default/dso_loader.cc:60] Could not load dynamic library 'libcudnn.so.8'; dlerror: libcudnn.so.8: cannot open shared object file: No such file or directory\n",
      "2023-08-21 14:12:27.880995: W tensorflow/core/common_runtime/gpu/gpu_device.cc:1757] Cannot dlopen some GPU libraries. Please make sure the missing libraries mentioned above are installed properly if you would like to use GPU. Follow the guide at https://www.tensorflow.org/install/gpu for how to download and setup the required libraries for your platform.\n",
      "Skipping registering GPU devices...\n",
      "2023-08-21 14:12:27.881008: I tensorflow/core/common_runtime/gpu/gpu_device.cc:1261] Device interconnect StreamExecutor with strength 1 edge matrix:\n",
      "2023-08-21 14:12:27.881013: I tensorflow/core/common_runtime/gpu/gpu_device.cc:1267]      0 1 \n",
      "2023-08-21 14:12:27.881018: I tensorflow/core/common_runtime/gpu/gpu_device.cc:1280] 0:   N N \n",
      "2023-08-21 14:12:27.881020: I tensorflow/core/common_runtime/gpu/gpu_device.cc:1280] 1:   N N \n",
      "2023-08-21 14:12:27.883227: I tensorflow/core/grappler/optimizers/meta_optimizer.cc:928] Optimization results for grappler item: graph_to_optimize\n",
      "  function_optimizer: function_optimizer did nothing. time = 0.003ms.\n",
      "  function_optimizer: function_optimizer did nothing. time = 0.001ms.\n",
      "\n",
      "2023-08-21 14:12:27.918941: W tensorflow/compiler/mlir/lite/python/tf_tfl_flatbuffer_helpers.cc:316] Ignored output_format.\n",
      "2023-08-21 14:12:27.918968: W tensorflow/compiler/mlir/lite/python/tf_tfl_flatbuffer_helpers.cc:319] Ignored drop_control_dependency.\n",
      "2023-08-21 14:12:27.922027: I tensorflow/compiler/jit/xla_gpu_device.cc:99] Not creating XLA devices, tf_xla_enable_xla_devices not set\n",
      "2023-08-21 14:12:27.922363: I tensorflow/core/common_runtime/gpu/gpu_device.cc:1720] Found device 0 with properties: \n",
      "pciBusID: 0000:1a:00.0 name: NVIDIA GeForce RTX 2080 Ti computeCapability: 7.5\n",
      "coreClock: 1.545GHz coreCount: 68 deviceMemorySize: 10.76GiB deviceMemoryBandwidth: 573.69GiB/s\n",
      "2023-08-21 14:12:27.922534: I tensorflow/core/common_runtime/gpu/gpu_device.cc:1720] Found device 1 with properties: \n",
      "pciBusID: 0000:68:00.0 name: NVIDIA GeForce RTX 2080 Ti computeCapability: 7.5\n",
      "coreClock: 1.545GHz coreCount: 68 deviceMemorySize: 10.76GiB deviceMemoryBandwidth: 573.69GiB/s\n",
      "2023-08-21 14:12:27.922566: I tensorflow/stream_executor/platform/default/dso_loader.cc:49] Successfully opened dynamic library libcudart.so.11.0\n",
      "2023-08-21 14:12:27.922593: I tensorflow/stream_executor/platform/default/dso_loader.cc:49] Successfully opened dynamic library libcublas.so.11\n",
      "2023-08-21 14:12:27.922603: I tensorflow/stream_executor/platform/default/dso_loader.cc:49] Successfully opened dynamic library libcublasLt.so.11\n",
      "2023-08-21 14:12:27.922612: I tensorflow/stream_executor/platform/default/dso_loader.cc:49] Successfully opened dynamic library libcufft.so.10\n",
      "2023-08-21 14:12:27.922622: I tensorflow/stream_executor/platform/default/dso_loader.cc:49] Successfully opened dynamic library libcurand.so.10\n",
      "2023-08-21 14:12:27.922631: I tensorflow/stream_executor/platform/default/dso_loader.cc:49] Successfully opened dynamic library libcusolver.so.10\n",
      "2023-08-21 14:12:27.922639: I tensorflow/stream_executor/platform/default/dso_loader.cc:49] Successfully opened dynamic library libcusparse.so.11\n",
      "2023-08-21 14:12:27.922702: W tensorflow/stream_executor/platform/default/dso_loader.cc:60] Could not load dynamic library 'libcudnn.so.8'; dlerror: libcudnn.so.8: cannot open shared object file: No such file or directory\n",
      "2023-08-21 14:12:27.922707: W tensorflow/core/common_runtime/gpu/gpu_device.cc:1757] Cannot dlopen some GPU libraries. Please make sure the missing libraries mentioned above are installed properly if you would like to use GPU. Follow the guide at https://www.tensorflow.org/install/gpu for how to download and setup the required libraries for your platform.\n",
      "Skipping registering GPU devices...\n",
      "2023-08-21 14:12:27.922723: I tensorflow/core/common_runtime/gpu/gpu_device.cc:1261] Device interconnect StreamExecutor with strength 1 edge matrix:\n",
      "2023-08-21 14:12:27.922726: I tensorflow/core/common_runtime/gpu/gpu_device.cc:1267]      0 1 \n",
      "2023-08-21 14:12:27.922730: I tensorflow/core/common_runtime/gpu/gpu_device.cc:1280] 0:   N N \n",
      "2023-08-21 14:12:27.922733: I tensorflow/core/common_runtime/gpu/gpu_device.cc:1280] 1:   N N \n"
     ]
    }
   ],
   "source": [
    "# Passing the Keras model to the TF Lite Converter.\n",
    "converter = tf.lite.TFLiteConverter.from_keras_model(model)\n",
    "\n",
    "# Using float-16 quantization.\n",
    "converter.optimizations = [tf.lite.Optimize.DEFAULT]\n",
    "converter.target_spec.supported_types = [tf.float32]\n",
    "\n",
    "# Converting the model.\n",
    "tflite_fp16_model = converter.convert()\n",
    " \n",
    "# Saving the model.\n",
    "with open('models/fp_16_model.tflite', 'wb') as f:\n",
    "    f.write(tflite_fp16_model)"
   ]
  },
  {
   "cell_type": "code",
   "execution_count": 29,
   "metadata": {},
   "outputs": [
    {
     "name": "stdout",
     "output_type": "stream",
     "text": [
      "INFO:tensorflow:Assets written to: /tmp/tmpdgmvecoq/assets\n"
     ]
    },
    {
     "name": "stderr",
     "output_type": "stream",
     "text": [
      "INFO:tensorflow:Assets written to: /tmp/tmpdgmvecoq/assets\n",
      "2023-08-21 14:12:28.260893: I tensorflow/core/grappler/devices.cc:69] Number of eligible GPUs (core count >= 8, compute capability >= 0.0): 2\n",
      "2023-08-21 14:12:28.261010: I tensorflow/core/grappler/clusters/single_machine.cc:356] Starting new session\n",
      "2023-08-21 14:12:28.261280: I tensorflow/compiler/jit/xla_gpu_device.cc:99] Not creating XLA devices, tf_xla_enable_xla_devices not set\n",
      "2023-08-21 14:12:28.261516: I tensorflow/core/common_runtime/gpu/gpu_device.cc:1720] Found device 0 with properties: \n",
      "pciBusID: 0000:1a:00.0 name: NVIDIA GeForce RTX 2080 Ti computeCapability: 7.5\n",
      "coreClock: 1.545GHz coreCount: 68 deviceMemorySize: 10.76GiB deviceMemoryBandwidth: 573.69GiB/s\n",
      "2023-08-21 14:12:28.261676: I tensorflow/core/common_runtime/gpu/gpu_device.cc:1720] Found device 1 with properties: \n",
      "pciBusID: 0000:68:00.0 name: NVIDIA GeForce RTX 2080 Ti computeCapability: 7.5\n",
      "coreClock: 1.545GHz coreCount: 68 deviceMemorySize: 10.76GiB deviceMemoryBandwidth: 573.69GiB/s\n",
      "2023-08-21 14:12:28.261702: I tensorflow/stream_executor/platform/default/dso_loader.cc:49] Successfully opened dynamic library libcudart.so.11.0\n",
      "2023-08-21 14:12:28.261721: I tensorflow/stream_executor/platform/default/dso_loader.cc:49] Successfully opened dynamic library libcublas.so.11\n",
      "2023-08-21 14:12:28.261729: I tensorflow/stream_executor/platform/default/dso_loader.cc:49] Successfully opened dynamic library libcublasLt.so.11\n",
      "2023-08-21 14:12:28.261737: I tensorflow/stream_executor/platform/default/dso_loader.cc:49] Successfully opened dynamic library libcufft.so.10\n",
      "2023-08-21 14:12:28.261744: I tensorflow/stream_executor/platform/default/dso_loader.cc:49] Successfully opened dynamic library libcurand.so.10\n",
      "2023-08-21 14:12:28.261753: I tensorflow/stream_executor/platform/default/dso_loader.cc:49] Successfully opened dynamic library libcusolver.so.10\n",
      "2023-08-21 14:12:28.261760: I tensorflow/stream_executor/platform/default/dso_loader.cc:49] Successfully opened dynamic library libcusparse.so.11\n",
      "2023-08-21 14:12:28.261817: W tensorflow/stream_executor/platform/default/dso_loader.cc:60] Could not load dynamic library 'libcudnn.so.8'; dlerror: libcudnn.so.8: cannot open shared object file: No such file or directory\n",
      "2023-08-21 14:12:28.261821: W tensorflow/core/common_runtime/gpu/gpu_device.cc:1757] Cannot dlopen some GPU libraries. Please make sure the missing libraries mentioned above are installed properly if you would like to use GPU. Follow the guide at https://www.tensorflow.org/install/gpu for how to download and setup the required libraries for your platform.\n",
      "Skipping registering GPU devices...\n",
      "2023-08-21 14:12:28.261839: I tensorflow/core/common_runtime/gpu/gpu_device.cc:1261] Device interconnect StreamExecutor with strength 1 edge matrix:\n",
      "2023-08-21 14:12:28.261842: I tensorflow/core/common_runtime/gpu/gpu_device.cc:1267]      0 1 \n",
      "2023-08-21 14:12:28.261846: I tensorflow/core/common_runtime/gpu/gpu_device.cc:1280] 0:   N N \n",
      "2023-08-21 14:12:28.261849: I tensorflow/core/common_runtime/gpu/gpu_device.cc:1280] 1:   N N \n",
      "2023-08-21 14:12:28.262831: I tensorflow/core/grappler/optimizers/meta_optimizer.cc:928] Optimization results for grappler item: graph_to_optimize\n",
      "  function_optimizer: function_optimizer did nothing. time = 0.001ms.\n",
      "  function_optimizer: function_optimizer did nothing. time = 0.001ms.\n",
      "\n",
      "2023-08-21 14:12:28.297796: W tensorflow/compiler/mlir/lite/python/tf_tfl_flatbuffer_helpers.cc:316] Ignored output_format.\n",
      "2023-08-21 14:12:28.297822: W tensorflow/compiler/mlir/lite/python/tf_tfl_flatbuffer_helpers.cc:319] Ignored drop_control_dependency.\n",
      "2023-08-21 14:12:28.306059: I tensorflow/lite/tools/optimize/quantize_weights.cc:222] Skipping quantization of tensor sequential/dense_2/MatMul because it has fewer than 1024 elements (192).\n"
     ]
    }
   ],
   "source": [
    "# Passing the baseline Keras model to the TF Lite Converter.\n",
    "converter = tf.lite.TFLiteConverter.from_keras_model(model)\n",
    "# Using  the Dynamic Range Quantization.\n",
    "converter.optimizations = [tf.lite.Optimize.DEFAULT]\n",
    "# Converting the model\n",
    "tflite_quant_model = converter.convert()\n",
    "# Saving the model.\n",
    "with open('models/dynamic_quant_model.tflite', 'wb') as f:\n",
    "    f.write(tflite_quant_model)"
   ]
  },
  {
   "cell_type": "code",
   "execution_count": 30,
   "metadata": {},
   "outputs": [
    {
     "name": "stdout",
     "output_type": "stream",
     "text": [
      "INFO:tensorflow:Assets written to: /tmp/tmphkxtrf48/assets\n"
     ]
    },
    {
     "name": "stderr",
     "output_type": "stream",
     "text": [
      "INFO:tensorflow:Assets written to: /tmp/tmphkxtrf48/assets\n",
      "2023-08-21 14:12:28.640252: I tensorflow/core/grappler/devices.cc:69] Number of eligible GPUs (core count >= 8, compute capability >= 0.0): 2\n",
      "2023-08-21 14:12:28.640321: I tensorflow/core/grappler/clusters/single_machine.cc:356] Starting new session\n",
      "2023-08-21 14:12:28.640544: I tensorflow/compiler/jit/xla_gpu_device.cc:99] Not creating XLA devices, tf_xla_enable_xla_devices not set\n",
      "2023-08-21 14:12:28.640769: I tensorflow/core/common_runtime/gpu/gpu_device.cc:1720] Found device 0 with properties: \n",
      "pciBusID: 0000:1a:00.0 name: NVIDIA GeForce RTX 2080 Ti computeCapability: 7.5\n",
      "coreClock: 1.545GHz coreCount: 68 deviceMemorySize: 10.76GiB deviceMemoryBandwidth: 573.69GiB/s\n",
      "2023-08-21 14:12:28.640926: I tensorflow/core/common_runtime/gpu/gpu_device.cc:1720] Found device 1 with properties: \n",
      "pciBusID: 0000:68:00.0 name: NVIDIA GeForce RTX 2080 Ti computeCapability: 7.5\n",
      "coreClock: 1.545GHz coreCount: 68 deviceMemorySize: 10.76GiB deviceMemoryBandwidth: 573.69GiB/s\n",
      "2023-08-21 14:12:28.640953: I tensorflow/stream_executor/platform/default/dso_loader.cc:49] Successfully opened dynamic library libcudart.so.11.0\n",
      "2023-08-21 14:12:28.640972: I tensorflow/stream_executor/platform/default/dso_loader.cc:49] Successfully opened dynamic library libcublas.so.11\n",
      "2023-08-21 14:12:28.640980: I tensorflow/stream_executor/platform/default/dso_loader.cc:49] Successfully opened dynamic library libcublasLt.so.11\n",
      "2023-08-21 14:12:28.640988: I tensorflow/stream_executor/platform/default/dso_loader.cc:49] Successfully opened dynamic library libcufft.so.10\n",
      "2023-08-21 14:12:28.640995: I tensorflow/stream_executor/platform/default/dso_loader.cc:49] Successfully opened dynamic library libcurand.so.10\n",
      "2023-08-21 14:12:28.641003: I tensorflow/stream_executor/platform/default/dso_loader.cc:49] Successfully opened dynamic library libcusolver.so.10\n",
      "2023-08-21 14:12:28.641010: I tensorflow/stream_executor/platform/default/dso_loader.cc:49] Successfully opened dynamic library libcusparse.so.11\n",
      "2023-08-21 14:12:28.641073: W tensorflow/stream_executor/platform/default/dso_loader.cc:60] Could not load dynamic library 'libcudnn.so.8'; dlerror: libcudnn.so.8: cannot open shared object file: No such file or directory\n",
      "2023-08-21 14:12:28.641078: W tensorflow/core/common_runtime/gpu/gpu_device.cc:1757] Cannot dlopen some GPU libraries. Please make sure the missing libraries mentioned above are installed properly if you would like to use GPU. Follow the guide at https://www.tensorflow.org/install/gpu for how to download and setup the required libraries for your platform.\n",
      "Skipping registering GPU devices...\n",
      "2023-08-21 14:12:28.641095: I tensorflow/core/common_runtime/gpu/gpu_device.cc:1261] Device interconnect StreamExecutor with strength 1 edge matrix:\n",
      "2023-08-21 14:12:28.641099: I tensorflow/core/common_runtime/gpu/gpu_device.cc:1267]      0 1 \n",
      "2023-08-21 14:12:28.641102: I tensorflow/core/common_runtime/gpu/gpu_device.cc:1280] 0:   N N \n",
      "2023-08-21 14:12:28.641105: I tensorflow/core/common_runtime/gpu/gpu_device.cc:1280] 1:   N N \n",
      "2023-08-21 14:12:28.641793: I tensorflow/core/grappler/optimizers/meta_optimizer.cc:928] Optimization results for grappler item: graph_to_optimize\n",
      "  function_optimizer: function_optimizer did nothing. time = 0.001ms.\n",
      "  function_optimizer: function_optimizer did nothing. time = 0ms.\n",
      "\n",
      "2023-08-21 14:12:28.659112: W tensorflow/compiler/mlir/lite/python/tf_tfl_flatbuffer_helpers.cc:316] Ignored output_format.\n",
      "2023-08-21 14:12:28.659132: W tensorflow/compiler/mlir/lite/python/tf_tfl_flatbuffer_helpers.cc:319] Ignored drop_control_dependency.\n"
     ]
    }
   ],
   "source": [
    "# Passing the baseline Keras model to the TF Lite Converter.\n",
    "converter = tf.lite.TFLiteConverter.from_keras_model(model)\n",
    "# Defining the representative dataset from training images.\n",
    "def representative_data_gen():\n",
    "    for input_value in tf.data.Dataset.from_tensor_slices(X_train).take(100):\n",
    "        yield [input_value]\n",
    "\n",
    "converter.optimizations = [tf.lite.Optimize.DEFAULT]\n",
    "converter.representative_dataset = representative_data_gen\n",
    "\n",
    "# Using Integer Quantization.\n",
    "converter.target_spec.supported_ops = [tf.lite.OpsSet.TFLITE_BUILTINS_INT8, tf.lite.OpsSet.SELECT_TF_OPS]\n",
    " \n",
    "# Setting the input and output tensors to uint8.\n",
    "converter.inference_input_type = tf.int8\n",
    "converter.inference_output_type = tf.int8\n",
    "# Converting the model.\n",
    "int_quant_model = converter.convert()\n",
    " \n",
    "# Saving the Integer Quantized TF Lite model.\n",
    "with open('models/int_quant_model.tflite', 'wb') as f:\n",
    "    f.write(int_quant_model)"
   ]
  },
  {
   "cell_type": "code",
   "execution_count": 31,
   "metadata": {},
   "outputs": [],
   "source": [
    "#Function for evaluating TF Lite Model over Test Images\n",
    "def evaluate(interpreter):\n",
    "    prediction= []\n",
    "    input_index = interpreter.get_input_details()[0][\"index\"]\n",
    "    output_index = interpreter.get_output_details()[0][\"index\"]\n",
    "    input_format = interpreter.get_output_details()[0]['dtype']\n",
    "    \n",
    "    for i, test_image in enumerate(X_test):\n",
    "        test_image = np.expand_dims(test_image, axis=0).astype(input_format)\n",
    "        interpreter.set_tensor(input_index, test_image)\n",
    "\n",
    "        # Run inference.\n",
    "        interpreter.invoke()\n",
    "        output = interpreter.tensor(output_index)\n",
    "        predicted_label = np.argmax(output()[0])\n",
    "        prediction.append(predicted_label)\n",
    "\n",
    "    print('\\n')\n",
    "    # Comparing prediction results with ground truth labels to calculate accuracy.\n",
    "    prediction = np.array(prediction)\n",
    "\n",
    "    accuracy = (prediction == Y_test1).mean()\n",
    "    return accuracy"
   ]
  },
  {
   "cell_type": "code",
   "execution_count": 32,
   "metadata": {},
   "outputs": [
    {
     "name": "stdout",
     "output_type": "stream",
     "text": [
      "\n",
      "\n",
      "Float 16 Quantized TFLite Model Test Accuracy: 96.24702217335532\n"
     ]
    }
   ],
   "source": [
    "# Passing the FP-16 TF Lite model to the interpreter.\n",
    "interpreter = tf.lite.Interpreter('models/fp_16_model.tflite')\n",
    "# Allocating tensors.\n",
    "interpreter.allocate_tensors()\n",
    "# Evaluating the model on the test dataset.\n",
    "test_accuracy = evaluate(interpreter)\n",
    "print('Float 16 Quantized TFLite Model Test Accuracy:', test_accuracy*100)"
   ]
  },
  {
   "cell_type": "code",
   "execution_count": 33,
   "metadata": {},
   "outputs": [
    {
     "name": "stdout",
     "output_type": "stream",
     "text": [
      "\n",
      "\n",
      "Dynamically Quantized TFLite Model Test Accuracy: 96.27634231262599\n"
     ]
    }
   ],
   "source": [
    "# Passing the Dynamic Range Quantized TF Lite model to the Interpreter.\n",
    "interpreter = tf.lite.Interpreter('models/dynamic_quant_model.tflite') \n",
    "# Allocating tensors.\n",
    "interpreter.allocate_tensors()\n",
    "# Evaluating the model on the test images.\n",
    "test_accuracy = evaluate(interpreter)\n",
    "print('Dynamically Quantized TFLite Model Test Accuracy:', test_accuracy*100)"
   ]
  },
  {
   "cell_type": "code",
   "execution_count": 34,
   "metadata": {},
   "outputs": [
    {
     "name": "stdout",
     "output_type": "stream",
     "text": [
      "\n",
      "\n",
      "Integer Quantized TFLite Model Test Accuracy: 33.33333333333333\n"
     ]
    }
   ],
   "source": [
    "# Passing the Integer Quantized TF Lite model to the Interpreter.\n",
    "interpreter = tf.lite.Interpreter('models/int_quant_model.tflite')\n",
    "# Allocating tensors.\n",
    "interpreter.allocate_tensors()\n",
    "# Evaluating the model on the test images.\n",
    "test_accuracy = evaluate(interpreter)\n",
    "print('Integer Quantized TFLite Model Test Accuracy:', test_accuracy*100)"
   ]
  },
  {
   "cell_type": "code",
   "execution_count": 35,
   "metadata": {},
   "outputs": [],
   "source": [
    "from sklearn.svm import LinearSVC\n",
    "from sklearn.linear_model import LogisticRegression\n",
    "from sklearn.naive_bayes import GaussianNB\n",
    "from sklearn.tree import DecisionTreeClassifier\n",
    "from sklearn.ensemble import RandomForestClassifier"
   ]
  },
  {
   "cell_type": "code",
   "execution_count": 36,
   "metadata": {},
   "outputs": [],
   "source": [
    "from sklearn.metrics import classification_report\n",
    "\n",
    "def evaluate_model(model, name, feat_test, y_test, input_type=\"Byte\"):\n",
    "    \"\"\" Evaluate a classification model on the test set, then print and plot metrics. \"\"\"\n",
    "    # Make prediction from features\n",
    "    pred_test = model.predict(feat_test)\n",
    "    \n",
    "    print(f\"\\n[ Evaluation result for {name} ]\")\n",
    "    # Print classification report\n",
    "    print(\"Classification report:\")\n",
    "    print(classification_report(y_test, pred_test))\n",
    "    report = classification_report(y_test, pred_test, output_dict=True)\n",
    "    df = pd.DataFrame(report).transpose()\n",
    "    # Save classification report as CSV\n",
    "    df.to_csv('results/{} Report {}.csv'.format(name,input_type))\n",
    "\n",
    "## Converting labels  to integer values\n",
    "def label_to_numeric(row):\n",
    "    \"\"\"Convert label to integers\"\"\"\n",
    "    distinct_labels = labels_to_integers.keys()\n",
    "    index_ = distinct_labels.index(row[\"label\"])\n",
    "    return index_"
   ]
  },
  {
   "cell_type": "code",
   "execution_count": 37,
   "metadata": {},
   "outputs": [],
   "source": [
    "def train_test_ML_models(df_train, df_test, input_type=\"Byte\"):\n",
    "    ## Visualize the dataset in tabular format\n",
    "    print('Total Number of Training data samples:', df_train.shape[0])\n",
    "    print('Total Number of Testing data samples:', df_test.shape[0])\n",
    "    print('Number of features per data sample:', df_train.shape[1]-1)\n",
    "    print('Distinct labels (Architecture Types):\\n',label_counter.keys())\n",
    "    \n",
    "    df_train_tmp = copy.deepcopy(df_train)\n",
    "    df_test_tmp = copy.deepcopy(df_test)\n",
    "    \n",
    "    df_train_tmp[\"label\"] = df_train_tmp['label'].replace(labels_to_integers)\n",
    "    df_test_tmp[\"label\"] = df_test_tmp['label'].replace(labels_to_integers)\n",
    "\n",
    "    #Train and Test labels\n",
    "    y_train = df_train_tmp.pop(\"label\").values\n",
    "    y_test = df_test_tmp.pop(\"label\").values\n",
    "    \n",
    "    #Train and Test data\n",
    "    X_train = df_train_tmp.values\n",
    "    X_test = df_test_tmp.values\n",
    "\n",
    "    #SVM\n",
    "    SVC_model = LinearSVC(random_state=123, max_iter=200)\n",
    "    SVC_model.fit(X_train, y_train)\n",
    "    classification_report = evaluate_model(SVC_model, \"Support Vector Machine Classifier\", X_test, y_test, input_type) \n",
    "    SVC_acc = np.round(SVC_model.score(X_test, y_test)*100,4)\n",
    "    print(SVC_acc)\n",
    "\n",
    "    #LR\n",
    "    LR_model = LogisticRegression(random_state=123, max_iter =200)\n",
    "    LR_model.fit(X_train, y_train)\n",
    "    evaluate_model(LR_model, \"Logistic Regression Classifier\", X_test, y_test, input_type) \n",
    "    LR_acc = np.round(LR_model.score(X_test, y_test)*100,4)\n",
    "    print(LR_acc)\n",
    "    \n",
    "    #GNB\n",
    "    GNB_model = GaussianNB()\n",
    "    GNB_model.fit(X_train, y_train)\n",
    "    evaluate_model(GNB_model, \"Gaussian Naive Bayes Classifier\", X_test, y_test, input_type) \n",
    "    GNB_acc = np.round(GNB_model.score(X_test, y_test)*100,4)\n",
    "    print(GNB_acc)\n",
    "\n",
    "    #DT\n",
    "    DT_model = DecisionTreeClassifier(random_state=1234567)\n",
    "    DT_model.fit(X_train, y_train)\n",
    "    evaluate_model(DT_model, \"Decision Tree Classifier\", X_test, y_test, input_type) \n",
    "    DT_acc = np.round(DT_model.score(X_test, y_test)*100,4)\n",
    "    print(DT_acc)\n",
    "\n",
    "#     RF\n",
    "    RF_model = RandomForestClassifier(random_state=1234567)\n",
    "    RF_model.fit(X_train, y_train)\n",
    "    evaluate_model(RF_model, \"Random Forest Classifier\", X_test, y_test, input_type) \n",
    "    RF_acc = np.round(RF_model.score(X_test, y_test)*100,4)\n",
    "    print(RF_acc)"
   ]
  },
  {
   "cell_type": "markdown",
   "metadata": {},
   "source": [
    "For Byte Level TF-IDF - Train and Eval"
   ]
  },
  {
   "cell_type": "code",
   "execution_count": 38,
   "metadata": {},
   "outputs": [],
   "source": [
    "if input_type == \"Byte\" or input_type == \"All\":\n",
    "    train_test_ML_models(df_train_Byte_TFIDF_feat, df_test_Byte_TFIDF_feat, input_type=\"Byte\")"
   ]
  },
  {
   "cell_type": "markdown",
   "metadata": {},
   "source": [
    "For Char Level TF-IDF - Train and Eval"
   ]
  },
  {
   "cell_type": "code",
   "execution_count": 39,
   "metadata": {},
   "outputs": [
    {
     "name": "stdout",
     "output_type": "stream",
     "text": [
      "Total Number of Training data samples: 109137\n",
      "Total Number of Testing data samples: 27285\n",
      "Number of features per data sample: 273\n",
      "Distinct labels (Architecture Types):\n",
      " dict_keys(['Spoofing', 'Normal', 'Fuzzing'])\n",
      "\n",
      "[ Evaluation result for Support Vector Machine Classifier ]\n",
      "Classification report:\n",
      "              precision    recall  f1-score   support\n",
      "\n",
      "           0       0.74      0.74      0.74      9095\n",
      "           1       0.77      0.73      0.75      9095\n",
      "           2       0.94      0.97      0.95      9095\n",
      "\n",
      "    accuracy                           0.82     27285\n",
      "   macro avg       0.81      0.82      0.81     27285\n",
      "weighted avg       0.81      0.82      0.81     27285\n",
      "\n",
      "81.5027\n"
     ]
    },
    {
     "name": "stderr",
     "output_type": "stream",
     "text": [
      "/home/nsl/.local/lib/python3.8/site-packages/sklearn/linear_model/_logistic.py:762: ConvergenceWarning: lbfgs failed to converge (status=1):\n",
      "STOP: TOTAL NO. of ITERATIONS REACHED LIMIT.\n",
      "\n",
      "Increase the number of iterations (max_iter) or scale the data as shown in:\n",
      "    https://scikit-learn.org/stable/modules/preprocessing.html\n",
      "Please also refer to the documentation for alternative solver options:\n",
      "    https://scikit-learn.org/stable/modules/linear_model.html#logistic-regression\n",
      "  n_iter_i = _check_optimize_result(\n"
     ]
    },
    {
     "name": "stdout",
     "output_type": "stream",
     "text": [
      "\n",
      "[ Evaluation result for Logistic Regression Classifier ]\n",
      "Classification report:\n",
      "              precision    recall  f1-score   support\n",
      "\n",
      "           0       0.73      0.74      0.74      9095\n",
      "           1       0.77      0.73      0.75      9095\n",
      "           2       0.94      0.97      0.96      9095\n",
      "\n",
      "    accuracy                           0.82     27285\n",
      "   macro avg       0.81      0.82      0.81     27285\n",
      "weighted avg       0.81      0.82      0.81     27285\n",
      "\n",
      "81.5466\n",
      "\n",
      "[ Evaluation result for Gaussian Naive Bayes Classifier ]\n",
      "Classification report:\n",
      "              precision    recall  f1-score   support\n",
      "\n",
      "           0       0.65      0.64      0.65      9095\n",
      "           1       0.65      0.68      0.66      9095\n",
      "           2       0.92      0.89      0.90      9095\n",
      "\n",
      "    accuracy                           0.74     27285\n",
      "   macro avg       0.74      0.74      0.74     27285\n",
      "weighted avg       0.74      0.74      0.74     27285\n",
      "\n",
      "73.6522\n",
      "\n",
      "[ Evaluation result for Decision Tree Classifier ]\n",
      "Classification report:\n",
      "              precision    recall  f1-score   support\n",
      "\n",
      "           0       0.95      0.96      0.96      9095\n",
      "           1       0.98      0.98      0.98      9095\n",
      "           2       0.96      0.96      0.96      9095\n",
      "\n",
      "    accuracy                           0.97     27285\n",
      "   macro avg       0.97      0.97      0.97     27285\n",
      "weighted avg       0.97      0.97      0.97     27285\n",
      "\n",
      "96.7565\n",
      "\n",
      "[ Evaluation result for Random Forest Classifier ]\n",
      "Classification report:\n",
      "              precision    recall  f1-score   support\n",
      "\n",
      "           0       0.97      0.95      0.96      9095\n",
      "           1       0.97      0.98      0.98      9095\n",
      "           2       0.96      0.98      0.97      9095\n",
      "\n",
      "    accuracy                           0.97     27285\n",
      "   macro avg       0.97      0.97      0.97     27285\n",
      "weighted avg       0.97      0.97      0.97     27285\n",
      "\n",
      "96.9324\n"
     ]
    }
   ],
   "source": [
    "if input_type == \"Char\" or input_type == \"All\":\n",
    "    train_test_ML_models(df_train_Char_TFIDF_feat, df_test_Char_TFIDF_feat, input_type=\"Char\")"
   ]
  }
 ],
 "metadata": {
  "colab": {
   "provenance": []
  },
  "kernelspec": {
   "display_name": "Python [conda env:CAN38]",
   "language": "python",
   "name": "conda-env-CAN38-py"
  },
  "language_info": {
   "codemirror_mode": {
    "name": "ipython",
    "version": 3
   },
   "file_extension": ".py",
   "mimetype": "text/x-python",
   "name": "python",
   "nbconvert_exporter": "python",
   "pygments_lexer": "ipython3",
   "version": "3.8.17"
  }
 },
 "nbformat": 4,
 "nbformat_minor": 1
}
